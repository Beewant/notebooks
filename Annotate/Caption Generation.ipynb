{
 "cells": [
  {
   "cell_type": "markdown",
   "metadata": {},
   "source": [
    "<td>\n",
    "   <a target=\"_blank\" href=\"https://beewant.com\" ><img src=\"https://media.licdn.com/dms/image/C4E0BAQFKjwZohF7zRA/company-logo_200_200/0/1655303818792?e=2147483647&v=beta&t=fmLrigj1HhqskB4jNk6aDb6XASTUx1SnRvMXWBPtuCY\"></a>\n",
    "</td>\n",
    "<p><B>Welcome to Beewant Platform Tutorial</B></p>"
   ]
  },
  {
   "cell_type": "markdown",
   "metadata": {},
   "source": [
    "<td>\n",
    "    <a href=\"https://www.linkedin.com/in/beewant/\" target=\"_blank\">\n",
    "        <img src=\"https://img.shields.io/badge/LinkedIn-0077B5?logo=linkedin&logoColor=white\" alt=\"LinkedIn\">\n",
    "    </a>\n",
    "</td>\n",
    "\n",
    "<td>\n",
    "    <a href=\"https://beewant.slack.com/\" target=\"_blank\">\n",
    "        <img src=\"https://img.shields.io/badge/Slack-4A154B?logo=slack&logoColor=white\" alt=\"Slack\">\n",
    "    </a>\n",
    "</td>"
   ]
  },
  {
   "cell_type": "markdown",
   "metadata": {},
   "source": [
    "Learn how to send annotations for caption generation tasks using the Beewant platform's generative templates. This tutorial provides a comprehensive guide on annotating caption generation tasks, enabling you to input detailed descriptions for images. Explore the process of sending annotations for caption generation tasks, ensuring accurate and contextually relevant captions for images. Follow step-by-step instructions to enhance the annotation process for caption generation tasks on the Beewant platform."
   ]
  },
  {
   "cell_type": "code",
   "execution_count": null,
   "metadata": {},
   "outputs": [],
   "source": [
    "import json\n",
    "import requests\n",
    "import concurrent.futures"
   ]
  },
  {
   "cell_type": "markdown",
   "metadata": {},
   "source": [
    "# API Key and Client\n",
    "Provide a valid api key below in order to properly connect to the Beewant Client."
   ]
  },
  {
   "cell_type": "code",
   "execution_count": null,
   "metadata": {},
   "outputs": [],
   "source": [
    "# To get your API key go to: Workspace settings -> Account -> Access Token\n",
    "beewant_api_key = \"\""
   ]
  },
  {
   "cell_type": "code",
   "execution_count": null,
   "metadata": {},
   "outputs": [],
   "source": [
    "# The URL to make the API request to\n",
    "url = \"https://beewant.com/api/projects\"\n",
    "\n",
    "# Replace {API_KEY} with your actual API key for authentication\n",
    "headers = {\n",
    "    'Authorization': f'Token {beewant_api_key}'\n",
    "}\n",
    "\n",
    "# Sending a GET request to the API endpoint with the headers for authentication\n",
    "response = requests.request(\"GET\", url, headers=headers)\n",
    "\n",
    "# Check the response status code to verify the request was successful\n",
    "if response.status_code == 200:\n",
    "    # If the status code is 200, the request was successful, and we can access the JSON data\n",
    "    data = response.json()\n",
    "    print(\"API response:\")\n",
    "    print(data)\n",
    "else:\n",
    "    # If the status code is not 200, there was an error in the request\n",
    "    print(f\"Error: {response.status_code} - {response.text}\")"
   ]
  },
  {
   "cell_type": "markdown",
   "metadata": {},
   "source": [
    "## Data Transformation"
   ]
  },
  {
   "cell_type": "markdown",
   "metadata": {},
   "source": [
    "Before proceeding further, it's essential to ensure that the input data file is properly formatted to align with the requirements of the platform. In this case, the input data file can be in any format, such as JSON, CSV, or other structured data formats. However, it needs to be formatted correctly to match the input format expected by the platform.\n",
    "\n",
    "For instance, consider the following example of input data in JSON format:\n",
    "\n",
    "```json\n",
    "{\n",
    "  \"rows\": [\n",
    "    {\n",
    "      \"row_idx\": 1,\n",
    "      \"row\": {\n",
    "        \"link\": \"https://example.com/image1.jpg\",\n",
    "        \"caption\": \"A beautiful sunset over the mountains\"\n",
    "      }\n",
    "    },\n",
    "    {\n",
    "      \"row_idx\": 2,\n",
    "      \"row\": {\n",
    "        \"link\": \"https://example.com/image2.jpg\",\n",
    "        \"caption\": \"A serene lake surrounded by lush greenery\"\n",
    "      }\n",
    "    }\n",
    "  ]\n",
    "}"
   ]
  },
  {
   "cell_type": "code",
   "execution_count": null,
   "metadata": {},
   "outputs": [],
   "source": [
    "# insert the identifier of the project you want to upload the data to\n",
    "# the projet must be created in the platform before running this script and its template must be set to \"caption generation\"\n",
    "project_id = ''\n",
    "\n",
    "# read content from json file\n",
    "with open('example_data.json', 'r') as file:\n",
    "    input_json = json.load(file)\n",
    "\n",
    "output_list = []\n",
    "\n",
    "for row in input_json[\"rows\"]:\n",
    "    item = {\n",
    "        \"id\": row[\"row_idx\"],\n",
    "        \"annotations\": [],\n",
    "        \"file_upload\": row[\"row\"][\"link\"].split(\"/\")[-1],\n",
    "        \"drafts\": [\n",
    "            {\n",
    "                \"result\": [\n",
    "                    {\n",
    "                        \"type\": \"textarea\",\n",
    "                        \"value\": {\n",
    "                            \"text\": [row[\"row\"][\"caption\"]]\n",
    "                        },\n",
    "                        \"origin\": \"manual\",\n",
    "                        \"to_name\": \"image\",\n",
    "                        \"from_name\": \"caption\"\n",
    "                    }\n",
    "                ],\n",
    "            }\n",
    "        ],\n",
    "        \"data\": {\n",
    "            \"captioning\": row[\"row\"][\"link\"]\n",
    "        },\n",
    "        \"project\": project_id,\n",
    "    }\n",
    "    output_list.append(item)"
   ]
  },
  {
   "cell_type": "markdown",
   "metadata": {},
   "source": [
    "## Send annotations"
   ]
  },
  {
   "cell_type": "markdown",
   "metadata": {},
   "source": [
    "This code snippet serves the purpose of interacting with the Beewant platform API to send task and annotation objects. Here's a breakdown of its functionality:\n",
    "\n",
    "1. **Send Task Object**:\n",
    "   - It constructs a task object using the data from the input item, which includes necessary information for creating a task in a specified project.\n",
    "   - The task object is then sent to the task endpoint of the Beewant platform via a POST request.\n",
    "\n",
    "2. **Handle Task Response**:\n",
    "   - Upon receiving a response from the platform, it prints the response content and status code to the console for debugging.\n",
    "\n",
    "3. **Send Annotation Object**:\n",
    "   - If the task creation is successful (indicated by a status code of 201), it extracts the task ID from the response and constructs an annotation object from the drafts field of the input item.\n",
    "   - This annotation object is then sent to the annotation endpoint of the Beewant platform via a POST request.\n",
    "\n",
    "4. **Handle Annotation Response**:\n",
    "   - Similar to task response handling, it prints the response content and status code after sending the annotation object.\n",
    "\n",
    "5. **Handle Failure**:\n",
    "   - If the task creation fails (status code other than 201), it prints a message indicating the failure and skips the annotation creation process.\n",
    "\n",
    "This code snippet is essential for uploading data and annotations to a specific project on the Beewant platform, facilitating seamless interaction with its API."
   ]
  },
  {
   "cell_type": "code",
   "execution_count": null,
   "metadata": {},
   "outputs": [],
   "source": [
    "def send_task_annotations(item):\n",
    "    task_object = {\"data\": item[\"data\"]}\n",
    "\n",
    "    # Send task object to task endpoint\n",
    "    url = f'https://beewant.com/api/projects/{project_id}/tasks/'\n",
    "    response = requests.post(url, headers={'Authorization': f'Token {beewant_api_key}'}, data=json.dumps(task_object))\n",
    "    print(\"Task Response:\")\n",
    "    print(response.content)\n",
    "    print(response.status_code)\n",
    "\n",
    "    # Send annotation object to annotation endpoint\n",
    "    if response.status_code == 201:  # Assuming 201 indicates a successful task creation\n",
    "        task_id = response.json()[\"id\"]\n",
    "        annotation_object = item[\"drafts\"][0]\n",
    "        annotation_url = f'https://beewant.com/api/tasks/{task_id}/annotations/'\n",
    "        response = requests.post(annotation_url, headers={'Authorization': f'Token {beewant_api_key}'}, data=json.dumps(annotation_object))\n",
    "        print(\"Annotation Response:\")\n",
    "        print(response.content)\n",
    "        print(response.status_code)\n",
    "    else:\n",
    "        print(\"Task creation failed, skipping annotation creation.\")"
   ]
  },
  {
   "cell_type": "code",
   "execution_count": null,
   "metadata": {},
   "outputs": [],
   "source": [
    "# Create an executor with a maximum of 5 threads\n",
    "with concurrent.futures.ThreadPoolExecutor(max_workers=5) as executor:\n",
    "    # Submit each task annotation object to the executor\n",
    "    futures = [executor.submit(send_task_annotations, item) for item in output_list]\n",
    "\n",
    "    # Wait for all futures to complete\n",
    "    for future in concurrent.futures.as_completed(futures):\n",
    "        future.result()"
   ]
  }
 ],
 "metadata": {
  "language_info": {
   "name": "python"
  }
 },
 "nbformat": 4,
 "nbformat_minor": 2
}

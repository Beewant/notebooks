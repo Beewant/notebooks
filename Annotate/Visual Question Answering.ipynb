{
 "cells": [
  {
   "cell_type": "markdown",
   "id": "7b97a6f5",
   "metadata": {},
   "source": [
    "<td>\n",
    "   <a target=\"_blank\" href=\"https://beewant.com\" ><img src=\"https://media.licdn.com/dms/image/C4E0BAQFKjwZohF7zRA/company-logo_200_200/0/1655303818792?e=2147483647&v=beta&t=fmLrigj1HhqskB4jNk6aDb6XASTUx1SnRvMXWBPtuCY\"></a>\n",
    "</td>\n",
    "<p><B>Welcome to Beewant Platform Tutorial</B></p>"
   ]
  },
  {
   "cell_type": "markdown",
   "id": "a31e401b",
   "metadata": {},
   "source": [
    "<td>\n",
    "    <a href=\"https://www.linkedin.com/in/beewant/\" target=\"_blank\">\n",
    "        <img src=\"https://img.shields.io/badge/LinkedIn-0077B5?logo=linkedin&logoColor=white\" alt=\"LinkedIn\">\n",
    "    </a>\n",
    "</td>\n",
    "\n",
    "<td>\n",
    "    <a href=\"https://beewant.slack.com/\" target=\"_blank\">\n",
    "        <img src=\"https://img.shields.io/badge/Slack-4A154B?logo=slack&logoColor=white\" alt=\"Slack\">\n",
    "    </a>\n",
    "</td>"
   ]
  },
  {
   "cell_type": "markdown",
   "id": "7479c48f",
   "metadata": {},
   "source": [
    "<p>Learn how to send annotations for Visual Question Answering (VQA) tasks using the Beewant platform's generative templates. This tutorial provides a comprehensive guide on annotating VQA tasks, enabling you to input detailed responses to visual prompts. Explore the process of sending annotations for VQA tasks, ensuring accurate and relevant answers to visual questions. Follow step-by-step instructions to enhance the annotation process for VQA tasks on the Beewant platform.</p>"
   ]
  },
  {
   "cell_type": "code",
   "execution_count": 1,
   "id": "d3470331-f02e-42de-977d-60be5b90e76f",
   "metadata": {
    "tags": []
   },
   "outputs": [],
   "source": [
    "import json\n",
    "import requests\n",
    "import os\n",
    "from concurrent.futures import ThreadPoolExecutor"
   ]
  },
  {
   "cell_type": "markdown",
   "id": "d7ba0ebb",
   "metadata": {},
   "source": [
    "# API Key and Client\n",
    "Provide a valid api key below in order to properly connect to the Beewant Client."
   ]
  },
  {
   "cell_type": "code",
   "execution_count": null,
   "id": "1d22cbaa",
   "metadata": {},
   "outputs": [],
   "source": [
    "# To get your API key go to: Workspace settings -> Account -> Access Token\n",
    "beewant_api_key = \"\""
   ]
  },
  {
   "cell_type": "code",
   "execution_count": null,
   "id": "c9d12d7b",
   "metadata": {},
   "outputs": [],
   "source": [
    "# The URL to make the API request to\n",
    "url = \"https://beewant.com/api/projects\"\n",
    "\n",
    "# Replace {API_KEY} with your actual API key for authentication\n",
    "headers = {\n",
    "    'Authorization': f'Token {beewant_api_key}'\n",
    "}\n",
    "\n",
    "# Sending a GET request to the API endpoint with the headers for authentication\n",
    "response = requests.request(\"GET\", url, headers=headers)\n",
    "\n",
    "# Check the response status code to verify the request was successful\n",
    "if response.status_code == 200:\n",
    "    # If the status code is 200, the request was successful, and we can access the JSON data\n",
    "    data = response.json()\n",
    "    print(\"API response:\")\n",
    "    print(data)\n",
    "else:\n",
    "    # If the status code is not 200, there was an error in the request\n",
    "    print(f\"Error: {response.status_code} - {response.text}\")"
   ]
  },
  {
   "cell_type": "markdown",
   "id": "2a799626",
   "metadata": {},
   "source": [
    "## Data Transformation"
   ]
  },
  {
   "cell_type": "markdown",
   "id": "271b422a",
   "metadata": {},
   "source": [
    "\n",
    "\n",
    "In order to prepare the data from the JSON file to fit the format required by the platform, several transformations were applied:\n",
    "\n",
    "### Constructing Annotation Object:\n",
    "\n",
    "1. **Image Identification**: The `image` key in each JSON object serves as the identifier for the image associated with the task.\n",
    "\n",
    "2. **Conversations Parsing**: Each JSON object contains a list of conversations. Assuming the first two elements of this list represent a question and its corresponding answer, they are extracted and used for annotation.\n",
    "\n",
    "3. **Annotation Object Creation**: For each task, a structured annotation object is constructed. This object consists of two parts: annotations and task data.\n",
    "\n",
    "    - **Annotations**: Each annotation includes information about the type (e.g., textarea), the text value (e.g., question or answer), and its origin (e.g., manual). Annotations are organized into a list, with each question-answer pair represented as a separate annotation.\n",
    "\n",
    "    - **Task Data**: This part contains the data associated with the task. In this case, it includes the image data encoded in base64 format.\n",
    "\n",
    "4. **Image Handling**:\n",
    "    - **Image Identification**: The image name is extracted from the `image` key of each JSON object.\n",
    "    - **File Path Construction**: A file path is constructed using the extracted image name and the directory where the images are stored.\n",
    "    - **Image Existence Check**: The script checks if the image file exists in the specified directory. If not, the task associated with the image is skipped.\n",
    "    - **Image Encoding**: If the image file exists, it is read and encoded in base64 format. The image format is inferred from the file extension.\n",
    "    \n",
    "### Processing File:\n",
    "\n",
    "The JSON file is processed by iterating through its contents and extracting relevant information for each task. Tasks are constructed based on this information, and only valid tasks (i.e., those with existing images) are included in the final list of task annotation objects."
   ]
  },
  {
   "cell_type": "code",
   "execution_count": 4,
   "id": "e39515af-19ca-44a5-ac8f-6dbf1823eda3",
   "metadata": {
    "tags": []
   },
   "outputs": [],
   "source": [
    "def construct_annotation_object(image_id, conversations):\n",
    "    \"\"\"\n",
    "    Constructs the annotation object for a given image and its conversations.\n",
    "\n",
    "    Args:\n",
    "        image_id (str): The ID or name of the image.\n",
    "        conversations (list): List of conversations associated with the image.\n",
    "\n",
    "    Returns:\n",
    "        dict: Annotation object containing questions and answers.\n",
    "    \"\"\"\n",
    "    annotations = []\n",
    "\n",
    "    # Iterate through conversations (assuming question-answer pairs)\n",
    "    for i in range(0, len(conversations), 2):\n",
    "        if i + 1 < len(conversations):\n",
    "            # Calculate question ID\n",
    "            question_id = (i // 2) + 1\n",
    "            # Extract question and answer from conversations\n",
    "            question = conversations[i][\"value\"]\n",
    "            answer = conversations[i + 1][\"value\"]\n",
    "\n",
    "            # Construct question annotation\n",
    "            question_annotation = {\n",
    "                \"type\": \"textarea\",\n",
    "                \"value\": {\"text\": [question]},\n",
    "                \"origin\": \"manual\",\n",
    "                \"to_name\": \"image\",\n",
    "                \"from_name\": f\"q{question_id}\",\n",
    "            }\n",
    "\n",
    "            # Construct answer annotation\n",
    "            answer_annotation = {\n",
    "                \"type\": \"textarea\",\n",
    "                \"value\": {\"text\": [answer]},\n",
    "                \"origin\": \"manual\",\n",
    "                \"to_name\": \"image\",\n",
    "                \"from_name\": f\"answer{question_id}\",\n",
    "            }\n",
    "\n",
    "            # Extend annotations list with question and answer annotations\n",
    "            annotations.extend([question_annotation, answer_annotation])\n",
    "\n",
    "    # Construct task object with image ID and annotations\n",
    "    task_object = {\n",
    "        \"image_id\": image_id,\n",
    "        \"annotations\": [{\n",
    "            \"result\": annotations,\n",
    "        }],\n",
    "    }\n",
    "    return task_object\n",
    "\n",
    "def process_file_and_construct_task_annotation_objects(file_path):\n",
    "    \"\"\"\n",
    "    Processes a JSON file containing image data and constructs task annotation objects.\n",
    "\n",
    "    Args:\n",
    "        file_path (str): Path to the JSON file.\n",
    "\n",
    "    Returns:\n",
    "        list: List of task annotation objects.\n",
    "    \"\"\"\n",
    "    # Open and read JSON file\n",
    "    with open(file_path, 'r') as file:\n",
    "        data = json.load(file)\n",
    "\n",
    "    task_annotation_objects = []\n",
    "\n",
    "    # Iterate through data items and construct task annotation objects\n",
    "    for item in data:\n",
    "        image_id = item[\"id\"]\n",
    "        conversations = item[\"conversations\"]\n",
    "        task_annotation_objects.append(construct_annotation_object(image_id, conversations))\n",
    "\n",
    "    return task_annotation_objects"
   ]
  },
  {
   "cell_type": "code",
   "execution_count": null,
   "id": "78df2e7d",
   "metadata": {},
   "outputs": [],
   "source": [
    "# Example usage\n",
    "file_path = 'example_data.json'\n",
    "constructed_task_annotation_objects = process_file_and_construct_task_annotation_objects(file_path)"
   ]
  },
  {
   "cell_type": "markdown",
   "id": "675cbf08",
   "metadata": {},
   "source": [
    "## Retrieving Task IDs and Filenames from a Project Endpoint"
   ]
  },
  {
   "cell_type": "markdown",
   "id": "73375f87",
   "metadata": {},
   "source": [
    "This function `get_task_ids_and_filenames` is used to fetch task IDs and corresponding filenames from a specified project endpoint.\n",
    "\n",
    "### Function Overview:\n",
    "\n",
    "- **Parameters:**\n",
    "  - `endpoint`: The URL endpoint of the project to retrieve tasks from.\n",
    "  - `key`: The API key for authorization purposes.\n",
    "\n",
    "- **Returns:**\n",
    "  - A dictionary containing task IDs as keys and their respective filenames as values.\n",
    "\n",
    "### Steps:\n",
    "\n",
    "1. **Send GET Request:**\n",
    "   - This function sends a GET request to the specified `endpoint` to retrieve project tasks.\n",
    "\n",
    "2. **Extract Task Information:**\n",
    "   - If the response status code is `200` (indicating success), the function extracts task IDs and image URLs from the response JSON data.\n",
    "\n",
    "3. **Extract Filename:**\n",
    "   - For each task, it extracts the filename from the image URL using the `os.path.basename` function.\n",
    "\n",
    "4. **Build Dictionary:**\n",
    "   - It constructs a dictionary with task IDs as keys and their corresponding filenames as values.\n",
    "\n",
    "5. **Error Handling:**\n",
    "   - If the request fails (status code other than `200`), an error message is printed indicating the failure to retrieve project tasks.\n",
    "\n",
    "6. **Return Dictionary:**\n",
    "   - The function returns the dictionary containing task IDs and filenames.\n"
   ]
  },
  {
   "cell_type": "code",
   "execution_count": 5,
   "id": "ad4bc071-3cfd-4fd7-8419-49cd928ccb4c",
   "metadata": {
    "tags": []
   },
   "outputs": [],
   "source": [
    "# insert the project identifier\n",
    "project_id = ''\n",
    "\n",
    "def get_task_ids_and_filenames(endpoint, key):\n",
    "    task_ids_filenames = {}\n",
    "\n",
    "    # Send GET request to retrieve project tasks\n",
    "    response = requests.get(endpoint, headers={'Authorization': f'Token {key}'})\n",
    "\n",
    "    if response.status_code == 200:\n",
    "        tasks = response.json()\n",
    "        for task in tasks:\n",
    "            task_id = task.get('id')\n",
    "            image_url = task.get('data', {}).get('image')\n",
    "            if task_id and image_url:\n",
    "                # Extract filename from the image URL (data sync from cloud)\n",
    "                filename = os.path.basename(image_url).split('.')[0]\n",
    "                task_ids_filenames[task_id] = filename\n",
    "                #print(f\"Task ID: {task_id}, Filename: {filename}\")\n",
    "    else:\n",
    "        print(f\"Failed to retrieve project tasks. Status code: {response.status_code}\")\n",
    "\n",
    "    return task_ids_filenames\n",
    "\n",
    "# Example usage\n",
    "endpoint = f\"https://beewant.com/api/projects/{project_id}/export\"\n",
    "\n",
    "task_ids_filenames = get_task_ids_and_filenames(endpoint, beewant_api_key)"
   ]
  },
  {
   "cell_type": "markdown",
   "id": "3a63ff35",
   "metadata": {},
   "source": [
    "## Send annotations"
   ]
  },
  {
   "cell_type": "markdown",
   "id": "f1f1e760",
   "metadata": {},
   "source": [
    "This function sends annotations for a single annotation object.\n",
    "\n",
    "1. **Inputs**:\n",
    "   - `annotation_obj`: The annotation object containing annotations for a single image.\n",
    "\n",
    "2. **Process**:\n",
    "   - Extracts the `image_id` and `annotations` from the provided `annotation_obj`.\n",
    "   - Finds the matching task ID for the `image_id` in the `task_ids_filenames` dictionary.\n",
    "   - Sends the annotations to the annotation endpoint if a matching task ID is found.\n",
    "   - Checks if there are existing annotations for the task ID, and if not, sends the annotations.\n",
    "   - Prints a success message if the annotations are sent successfully, otherwise prints a failure message.\n",
    "\n",
    "3. **Example Usage**:\n",
    "   - Call the function with the annotation object as input to send annotations for a specific image."
   ]
  },
  {
   "cell_type": "code",
   "execution_count": null,
   "id": "5522d56a-a1aa-4865-9e9f-cf9e2a95d473",
   "metadata": {
    "tags": []
   },
   "outputs": [],
   "source": [
    "# Function to send annotations for a single annotation object\n",
    "def send_annotations(annotation_obj):\n",
    "    image_id = annotation_obj['image_id']\n",
    "    annotations = annotation_obj['annotations'][0]\n",
    "\n",
    "    # Find the matching task ID for the current image ID\n",
    "    matching_task_id = None\n",
    "    for task_id, task_image_id in task_ids_filenames.items():\n",
    "        if task_image_id == image_id:\n",
    "            matching_task_id = task_id\n",
    "            break\n",
    "\n",
    "    if matching_task_id is not None:\n",
    "        # Send annotations to annotation endpoint\n",
    "        annotation_url = f'https://beewant.com/api/tasks/{matching_task_id}/annotations'\n",
    "        annotation_response = requests.post(annotation_url,headers={'Authorization': f'Token {beewant_api_key}'}, data=json.dumps(annotations))\n",
    "        if annotation_response.status_code == 201:\n",
    "            print(f\"Annotations sent successfully for image {image_id}. Task ID: {matching_task_id}\")\n",
    "        else:\n",
    "            print(f\"Failed to send annotations for image {image_id}. Task ID: {matching_task_id}. Status code: {annotation_response.status_code}\")"
   ]
  },
  {
   "cell_type": "code",
   "execution_count": null,
   "id": "0058fa9a-a670-434e-8c15-f7214e257504",
   "metadata": {},
   "outputs": [],
   "source": [
    "# Extract filename from the image URL (data sync from cloud)\n",
    "max_workers = 5  # Adjust the number of threads as needed\n",
    "with ThreadPoolExecutor(max_workers=max_workers) as executor:\n",
    "    # Map the send_annotations function to each annotation object in constructed_task_annotation_objects\n",
    "    # This will execute the function concurrently with multiple threads\n",
    "    executor.map(send_annotations, reversed(constructed_task_annotation_objects))"
   ]
  }
 ],
 "metadata": {
  "kernelspec": {
   "display_name": "Python 3 (ipykernel)",
   "language": "python",
   "name": "python3"
  },
  "language_info": {
   "codemirror_mode": {
    "name": "ipython",
    "version": 3
   },
   "file_extension": ".py",
   "mimetype": "text/x-python",
   "name": "python",
   "nbconvert_exporter": "python",
   "pygments_lexer": "ipython3",
   "version": "3.10.13"
  }
 },
 "nbformat": 4,
 "nbformat_minor": 5
}

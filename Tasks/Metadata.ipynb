{
 "cells": [
  {
   "attachments": {},
   "cell_type": "markdown",
   "metadata": {},
   "source": [
    "<td>\n",
    "   <a target=\"_blank\" href=\"https://beewant.com\" ><img src=\"https://media.licdn.com/dms/image/C4E0BAQFKjwZohF7zRA/company-logo_200_200/0/1655303818792?e=2147483647&v=beta&t=fmLrigj1HhqskB4jNk6aDb6XASTUx1SnRvMXWBPtuCY\"></a>\n",
    "</td>\n",
    "<p><B>Welcome to Beewant Platform Tutorial</B></p>"
   ]
  },
  {
   "attachments": {},
   "cell_type": "markdown",
   "metadata": {},
   "source": [
    "\n",
    "<td>\n",
    "    <a href=\"https://www.linkedin.com/in/beewant/\" target=\"_blank\">\n",
    "        <img src=\"https://img.shields.io/badge/LinkedIn-0077B5?logo=linkedin&logoColor=white\" alt=\"LinkedIn\">\n",
    "    </a>\n",
    "</td>\n",
    "\n",
    "<td>\n",
    "    <a href=\"https://beewant.slack.com/\" target=\"_blank\">\n",
    "        <img src=\"https://img.shields.io/badge/Slack-4A154B?logo=slack&logoColor=white\" alt=\"Slack\">\n",
    "    </a>\n",
    "</td>"
   ]
  },
  {
   "attachments": {},
   "cell_type": "markdown",
   "metadata": {},
   "source": [
    "<p>In this comprehensive tutorial, we'll delve into the immensely valuable concept of metadata within the <a target=\"_blank\" href=\"https://beewant.com\" width=256 >Beewant platform</a>. Metadata acts as an invaluable bridge of context, enriching your data with additional layers of information that can substantially elevate the efficiency and depth of your projects. As we embark on this journey, you'll unlock the power of Beewant's capabilities to seamlessly extract, harness, and infuse metadata, revolutionizing the way you approach your projects.</p>\n",
    "<div style=\"text-align:center\">\n",
    "  <img src=\"https://dataedo.com/asset/img/banners/kb/data-glossary/metadata_v2.png\" alt=\"Metadata Illustration\" />\n",
    "</div>\n",
    "<p>Throughout this tutorial, we'll not only unravel the technical intricacies of working with metadata but also highlight its significance in driving informed decisions and insights. You'll gain hands-on experience in utilizing Beewant's intuitive tools to effortlessly extract context, add valuable tags, and establish connections that bring your data to life. By the end of this tutorial, you'll be equipped with the expertise to harness metadata's potential and elevate your projects to new horizons.</p>\n",
    "<p>Whether you're a novice or an experienced user, this tutorial serves as your definitive guide to mastering metadata within the Beewant ecosystem. So, let's embark on this enlightening journey and uncover the boundless possibilities that metadata can unlock.</p>"
   ]
  },
  {
   "cell_type": "code",
   "execution_count": null,
   "metadata": {},
   "outputs": [],
   "source": [
    "# Importing packages\n",
    "from tqdm import tqdm\n",
    "import requests\n",
    "import json\n",
    "from google.colab import files\n",
    "import io"
   ]
  },
  {
   "attachments": {},
   "cell_type": "markdown",
   "metadata": {},
   "source": [
    "### Load projects"
   ]
  },
  {
   "cell_type": "code",
   "execution_count": null,
   "metadata": {},
   "outputs": [],
   "source": [
    "# To get your API key go to: Workspace settings -> Account -> Access Token\n",
    "beewant_api_key = \"\""
   ]
  },
  {
   "cell_type": "code",
   "execution_count": null,
   "metadata": {},
   "outputs": [],
   "source": [
    "# Set the authorization header using the API token\n",
    "headers = {\n",
    "  'Authorization': f'Token {beewant_api_key}',\n",
    "}\n",
    "\n",
    "# Define the URL for getting projects\n",
    "url = \"https://beewant.com/api/projects/\"\n",
    "\n",
    "# Send a GET request to retrieve projects\n",
    "response = requests.request(\"GET\", url, headers=headers)\n",
    "\n",
    "# Print the response\n",
    "print(response)\n",
    "\n",
    "# Extract JSON data from the response\n",
    "projects = response.json()"
   ]
  },
  {
   "cell_type": "code",
   "execution_count": null,
   "metadata": {},
   "outputs": [],
   "source": [
    "# Display projects arguments\n",
    "projects.keys()"
   ]
  },
  {
   "cell_type": "code",
   "execution_count": null,
   "metadata": {},
   "outputs": [],
   "source": [
    "# Extract projects titles\n",
    "for project in projects['results']:\n",
    "    print(project['title'])"
   ]
  },
  {
   "attachments": {},
   "cell_type": "markdown",
   "metadata": {},
   "source": [
    "### Add metadata to a Task from existing file"
   ]
  },
  {
   "cell_type": "code",
   "execution_count": null,
   "metadata": {},
   "outputs": [],
   "source": [
    "# To get your API key go to: Workspace settings -> Account -> Access Token\n",
    "beewant_api_key = \"\"\n",
    "\n",
    "# Use files.upload to produce the \"Choose Files\" button below, then select your file.\n",
    "uploaded = files.upload()\n",
    "\n",
    "# Use io.BytesIO to decode the file, then json.load to open it.\n",
    "file = io.BytesIO(uploaded['sample_credentials.json'])\n",
    "metadata = json.load(file)"
   ]
  },
  {
   "cell_type": "code",
   "execution_count": null,
   "metadata": {},
   "outputs": [],
   "source": [
    "# Function to add metadata to a task\n",
    "def add_metadata_to_task(task_id, metadata):\n",
    "    # Construct the URL for the task\n",
    "    url = f\"https://beewant.com/api/tasks/{str(task_id)}/\"\n",
    "    \n",
    "    # Prepare the payload with new metadata\n",
    "    payload = json.dumps({\n",
    "        \"meta\": metadata\n",
    "    })\n",
    "    \n",
    "    # Set the headers with the API key and content type\n",
    "    headers = {\n",
    "        'Authorization': f'Token {beewant_api_key}',\n",
    "        'Content-Type': 'application/json',\n",
    "    }\n",
    "    \n",
    "    # Send a PATCH request to update the task's metadata\n",
    "    response = requests.request(\"PATCH\", url, headers=headers, data=payload)\n",
    "    \n",
    "    # Extract and return the JSON response\n",
    "    return response.json()"
   ]
  },
  {
   "cell_type": "code",
   "execution_count": null,
   "metadata": {},
   "outputs": [],
   "source": [
    "# Initialize a list to track skipped tasks\n",
    "skipped_tasks = []\n",
    "\n",
    "# Loop through projects to retrieve tasks\n",
    "for project in tqdm(projects['results']):\n",
    "    # Construct the URL to get all tasks for the project\n",
    "    url = f\"https://beewant.com/api/projects/{str(project['id'])}/tasks/?length=-1\"\n",
    "    \n",
    "    # Send a GET request to fetch tasks for the project\n",
    "    response = requests.request(\"GET\", url, headers=headers)\n",
    "    tasks = response.json()\n",
    "    \n",
    "    # Extract project title and display progress\n",
    "    batch = project['title']\n",
    "    print(\"Working on \" + batch)\n",
    "    print(\"Number of tasks: \" + str(len(tasks)))\n",
    "\n",
    "    # Load metadata for the current batch, metadata/{batch}.json refers to a JSON file containing metadata associated with a specific batch or project\n",
    "    # metadata = json.load(open(f\"metadata/{batch}.json\"))\n",
    "\n",
    "    # Loop through tasks in the project\n",
    "    for task in tqdm(tasks):\n",
    "        task_id = task['id']\n",
    "        file_name = task['data']['captioning']\n",
    "        metadata_id = file_name[file_name.index(batch) + len(batch) + 1 : -4]\n",
    "        \n",
    "        # Check if metadata exists before adding it\n",
    "        if metadata_id in metadata:\n",
    "            # Edit task with metadata\n",
    "            add_metadata_to_task(task_id, metadata[metadata_id])\n",
    "        else:\n",
    "            # Add skipped task\n",
    "            skipped_tasks.append([batch, task_id, metadata_id])\n",
    "        \n",
    "    print(\"_________\")\n",
    "\n",
    "# Print the number of skipped tasks\n",
    "print(f\"Number of skipped tasks: {len(skipped_tasks)}\")\n"
   ]
  },
  {
   "attachments": {},
   "cell_type": "markdown",
   "metadata": {},
   "source": [
    "### Delete specific task metadata in the project"
   ]
  },
  {
   "cell_type": "code",
   "execution_count": null,
   "metadata": {},
   "outputs": [],
   "source": [
    "# To get your API key go to: Workspace settings -> Account -> Access Token\n",
    "beewant_api_key = \"\"\n",
    "\n",
    "# Specify the task ID you want to delete the metadata for\n",
    "task_id_to_delete = \"\""
   ]
  },
  {
   "cell_type": "code",
   "execution_count": null,
   "metadata": {},
   "outputs": [],
   "source": [
    "def delete_metadata(task_id):\n",
    "    # Construct the URL for editing the task to delete metadata\n",
    "    url = f\"https://beewant.com/api/tasks/{str(task_id)}/\"\n",
    "\n",
    "    # Prepare the payload to remove the metadata\n",
    "    payload = json.dumps({\n",
    "        \"meta\": {}\n",
    "    })\n",
    "\n",
    "    # Set the headers with the API key and content type\n",
    "    headers = {\n",
    "        'Authorization': f'Token {beewant_api_key}',\n",
    "        'Content-Type': 'application/json',\n",
    "    }\n",
    "\n",
    "    # Send a PATCH request to update the task's metadata\n",
    "    response = requests.request(\"PATCH\", url, headers=headers, data=payload)\n",
    "\n",
    "    # Check the response status code to verify the request was successful\n",
    "    if response.status_code == 200:\n",
    "        print(f\"Metadata deleted for task ID: {task_id}\")\n",
    "    else:\n",
    "        print(f\"Error deleting metadata for task ID: {task_id}\")\n",
    "        print(f\"Response: {response.status_code} - {response.text}\")\n",
    "\n",
    "    return response.json()\n"
   ]
  },
  {
   "cell_type": "code",
   "execution_count": null,
   "metadata": {},
   "outputs": [],
   "source": [
    "# Initialize a list to track skipped tasks\n",
    "skipped_tasks = []\n",
    "\n",
    "\n",
    "# Loop through projects to retrieve tasks\n",
    "for project in tqdm(projects['results']):\n",
    "    # Construct the URL to get all tasks for the project\n",
    "    url = f\"https://beewant.com/api/projects/{str(project['id'])}/tasks/?length=-1\"\n",
    "    \n",
    "    # Send a GET request to fetch tasks for the project\n",
    "    response = requests.request(\"GET\", url, headers=headers)\n",
    "    tasks = response.json()\n",
    "    \n",
    "    # Extract project title and display progress\n",
    "    batch = project['title']\n",
    "    print(\"Working on \" + batch)\n",
    "    print(\"Number of tasks: \" + str(len(tasks)))\n",
    "\n",
    "    # Loop through tasks in the project\n",
    "    for task in tqdm(tasks):\n",
    "        task_id = task['id']\n",
    "        \n",
    "        # Check if the current task ID matches the one to modify (You can delete all tasks by removing this bloc)\n",
    "        if task_id == task_id_to_delete:\n",
    "            # Delete the metadata of the task\n",
    "            delete_metadata(task_id)  # Make sure to implement the delete_metadata function\n",
    "        else:\n",
    "            skipped_tasks.append(task_id)\n",
    "        \n",
    "    print(\"_________\")\n",
    "\n",
    "# Print the number of skipped tasks\n",
    "print(f\"Number of skipped tasks: {len(skipped_tasks)}\")\n"
   ]
  }
 ],
 "metadata": {
  "kernelspec": {
   "display_name": "Python 3",
   "language": "python",
   "name": "python3"
  },
  "language_info": {
   "codemirror_mode": {
    "name": "ipython",
    "version": 3
   },
   "file_extension": ".py",
   "mimetype": "text/x-python",
   "name": "python",
   "nbconvert_exporter": "python",
   "pygments_lexer": "ipython3",
   "version": "3.10.0"
  },
  "orig_nbformat": 4
 },
 "nbformat": 4,
 "nbformat_minor": 2
}

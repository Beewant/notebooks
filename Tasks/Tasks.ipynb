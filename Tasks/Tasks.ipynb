{
 "cells": [
  {
   "cell_type": "markdown",
   "metadata": {},
   "source": [
    "<td>\n",
    "   <a target=\"_blank\" href=\"https://beewant.com\" ><img src=\"https://media.licdn.com/dms/image/C4E0BAQFKjwZohF7zRA/company-logo_200_200/0/1655303818792?e=2147483647&v=beta&t=fmLrigj1HhqskB4jNk6aDb6XASTUx1SnRvMXWBPtuCY\"></a>\n",
    "</td>\n",
    "<p><B>Welcome to Beewant Platform Tutorial</B></p>"
   ]
  },
  {
   "attachments": {},
   "cell_type": "markdown",
   "metadata": {},
   "source": [
    "<td>\n",
    "    <a href=\"https://www.linkedin.com/in/beewant/\" target=\"_blank\">\n",
    "        <img src=\"https://img.shields.io/badge/LinkedIn-0077B5?logo=linkedin&logoColor=white\" alt=\"LinkedIn\">\n",
    "    </a>\n",
    "</td>\n",
    "\n",
    "<td>\n",
    "    <a href=\"https://beewant.slack.com/\" target=\"_blank\">\n",
    "        <img src=\"https://img.shields.io/badge/Slack-4A154B?logo=slack&logoColor=white\" alt=\"Slack\">\n",
    "    </a>\n",
    "</td>"
   ]
  },
  {
   "attachments": {},
   "cell_type": "markdown",
   "metadata": {},
   "source": [
    "<p>Tasks are the core units in Beewant, representing individual data instances that require annotations. Whether you're working on image classification, object detection, or text sentiment analysis, tasks encapsulate the data that needs to be labeled. Annotations, on the other hand, are the labels and metadata that you add to these tasks. They provide valuable insights that train and fine-tune machine learning models.</p>\n",
    "  \n",
    "  <p><B><span style='color:red;'>Note:</B></span> If you have any questions or encounter difficulties during the tutorial, don't hesitate to refer to the comprehensive documentation or reach out to our dedicated customer support team for assistance.</p>\n"
   ]
  },
  {
   "cell_type": "code",
   "execution_count": null,
   "metadata": {},
   "outputs": [],
   "source": [
    "\n",
    "import requests\n",
    "import json"
   ]
  },
  {
   "cell_type": "markdown",
   "metadata": {},
   "source": [
    "# API Key and Client\n",
    "Provide a valid api key below in order to properly connect to the Beewant Client."
   ]
  },
  {
   "cell_type": "code",
   "execution_count": null,
   "metadata": {},
   "outputs": [],
   "source": [
    "# To get your API key go to: Workspace settings -> Account -> Access Token\n",
    "beewant_api_key = \"\""
   ]
  },
  {
   "cell_type": "code",
   "execution_count": null,
   "metadata": {},
   "outputs": [],
   "source": [
    "# The URL to make the API request to\n",
    "url = \"https://beewant.com/api/projects\"\n",
    "\n",
    "# Replace {API_KEY} with your actual API key for authentication\n",
    "headers = {\n",
    "    'Authorization': f'Token {beewant_api_key}'\n",
    "}\n",
    "\n",
    "# Sending a GET request to the API endpoint with the headers for authentication\n",
    "response = requests.request(\"GET\", url, headers=headers)\n",
    "\n",
    "# Check the response status code to verify the request was successful\n",
    "if response.status_code == 200:\n",
    "    # If the status code is 200, the request was successful, and we can access the JSON data\n",
    "    data = response.json()\n",
    "    print(\"API response:\")\n",
    "    print(data)\n",
    "else:\n",
    "    # If the status code is not 200, there was an error in the request\n",
    "    print(f\"Error: {response.status_code} - {response.text}\")"
   ]
  },
  {
   "attachments": {},
   "cell_type": "markdown",
   "metadata": {},
   "source": [
    "## Tasks"
   ]
  },
  {
   "attachments": {},
   "cell_type": "markdown",
   "metadata": {},
   "source": [
    "### Getting a task"
   ]
  },
  {
   "cell_type": "code",
   "execution_count": null,
   "metadata": {},
   "outputs": [],
   "source": [
    "# To get your API key go to: Workspace settings -> Account -> Access Token\n",
    "beewant_api_key = \"\"\n",
    "\n",
    "# task_id represents a placeholder for the actual ID of a specific task in the Beewant platform\n",
    "task_id = \"\""
   ]
  },
  {
   "cell_type": "code",
   "execution_count": null,
   "metadata": {},
   "outputs": [],
   "source": [
    "# The URL to make the API request to\n",
    "url = f'https://beewant.com/api/tasks/{task_id}/'\n",
    "\n",
    "# Headers containing the authorization token for authentication\n",
    "headers = {\n",
    "    'Authorization': f'Token {beewant_api_key}'\n",
    "}\n",
    "\n",
    "# Sending a GET request to the API endpoint with the headers for authentication\n",
    "response = requests.get(url, headers=headers)\n",
    "\n",
    "# Check the response status code to verify the request was successful\n",
    "if response.status_code == 200:\n",
    "    # If the status code is 200, the request was successful, and we can access the JSON data\n",
    "    data = response.json()\n",
    "    print(\"API response:\")\n",
    "    print(data)\n",
    "else:\n",
    "    # If the status code is not 200, there was an error in the request\n",
    "    print(f\"Error: {response.status_code} - {response.text}\")\n"
   ]
  },
  {
   "attachments": {},
   "cell_type": "markdown",
   "metadata": {},
   "source": [
    "### Updating a task"
   ]
  },
  {
   "cell_type": "code",
   "execution_count": null,
   "metadata": {},
   "outputs": [],
   "source": [
    "# To get your API key go to: Workspace settings -> Account -> Access Token\n",
    "beewant_api_key = \"\"\n",
    "\n",
    "# task_id represents a placeholder for the actual ID of a specific task in the Beewant platform\n",
    "task_id = \"\"\n",
    "\n",
    "# Create the payload data as a dictionary\n",
    "payload = json.dumps({\n",
    "  \"meta\": \"meta\"\n",
    "})"
   ]
  },
  {
   "cell_type": "code",
   "execution_count": null,
   "metadata": {},
   "outputs": [],
   "source": [
    "# Define the API endpoint URL with a placeholder for the ID of the task (task_id) \n",
    "url = f'https://beewant.com/api/tasks/{task_id}/'\n",
    "\n",
    "\n",
    "# Convert the payload dictionary to a JSON string\n",
    "payload_json = json.dumps(payload)\n",
    "\n",
    "# Set the headers with the API key and 'Content-Type' as 'application/json'\n",
    "headers = {\n",
    "    'Authorization': f'Token {beewant_api_key}',\n",
    "    'Content-Type': 'application/json',\n",
    "}\n",
    "\n",
    "# Send a PATCH request to the API endpoint with the provided headers and payload\n",
    "response = requests.patch(url, headers=headers, data=payload_json)\n",
    "\n",
    "# Check if the request was successful (status code 200)\n",
    "if response.status_code == 200:\n",
    "    # Parse the response content as JSON and store it in the 'response_data' variable\n",
    "    response_data = response.json()\n",
    "\n",
    "    # Now 'response_data' contains the response data in JSON format\n",
    "    # You can further process and use this data as needed in your application\n",
    "    print(response_data)\n",
    "else:\n",
    "    # If the request was not successful, print the status code and error message\n",
    "    print(f\"Error: {response.status_code} - {response.text}\")\n"
   ]
  },
  {
   "attachments": {},
   "cell_type": "markdown",
   "metadata": {},
   "source": [
    "### Deleting a task"
   ]
  },
  {
   "cell_type": "code",
   "execution_count": null,
   "metadata": {},
   "outputs": [],
   "source": [
    "# To get your API key go to: Workspace settings -> Account -> Access Token\n",
    "beewant_api_key = \"\"\n",
    "\n",
    "# task_id represents a placeholder for the actual ID of a specific task in the Beewant platform\n",
    "task_id = \"\""
   ]
  },
  {
   "cell_type": "code",
   "execution_count": null,
   "metadata": {},
   "outputs": [],
   "source": [
    "# Define the API endpoint URL with a placeholder for the ID of the task (task_id)\n",
    "url = f'https://beewant.com/api/tasks/{task_id}'\n",
    "\n",
    "# Set the headers with the API key\n",
    "headers = {\n",
    "    'Authorization': f'Token {beewant_api_key}',\n",
    "}\n",
    "\n",
    "# Send a DELETE request to the API endpoint with the provided headers\n",
    "response = requests.delete(url, headers=headers)\n",
    "\n",
    "# Check if the request was successful (status code 204 - No Content indicates successful deletion)\n",
    "if response.status_code == 204:\n",
    "    print(\"task deleted successfully.\")\n",
    "else:\n",
    "    # If the request was not successful, print the status code and error message\n",
    "    print(f\"Error: {response.status_code} - {response.text}\")\n"
   ]
  }
 ],
 "metadata": {
  "language_info": {
   "name": "python"
  },
  "orig_nbformat": 4
 },
 "nbformat": 4,
 "nbformat_minor": 2
}

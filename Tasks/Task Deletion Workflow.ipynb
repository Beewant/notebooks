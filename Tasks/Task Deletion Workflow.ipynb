{
 "cells": [
  {
   "cell_type": "markdown",
   "metadata": {},
   "source": [
    "<td>\n",
    "   <a target=\"_blank\" href=\"https://beewant.com\" ><img src=\"https://media.licdn.com/dms/image/C4E0BAQFKjwZohF7zRA/company-logo_200_200/0/1655303818792?e=2147483647&v=beta&t=fmLrigj1HhqskB4jNk6aDb6XASTUx1SnRvMXWBPtuCY\"></a>\n",
    "</td>\n",
    "<p><B>Welcome to Beewant Platform Tutorial</B></p>"
   ]
  },
  {
   "cell_type": "markdown",
   "metadata": {},
   "source": [
    "<td>\n",
    "    <a href=\"https://www.linkedin.com/in/beewant/\" target=\"_blank\">\n",
    "        <img src=\"https://img.shields.io/badge/LinkedIn-0077B5?logo=linkedin&logoColor=white\" alt=\"LinkedIn\">\n",
    "    </a>\n",
    "</td>\n",
    "\n",
    "<td>\n",
    "    <a href=\"https://beewant.slack.com/\" target=\"_blank\">\n",
    "        <img src=\"https://img.shields.io/badge/Slack-4A154B?logo=slack&logoColor=white\" alt=\"Slack\">\n",
    "    </a>\n",
    "</td>"
   ]
  },
  {
   "cell_type": "markdown",
   "metadata": {},
   "source": [
    "<p>In this tutorial, we will guide you through the process of deleting tasks from both the S3 storage and the BeeWant platform, focusing on a specific set of values within the tags associated with tasks in a designated project. Learn how to efficiently manage and clean up your project data by leveraging the capabilities of BeeWant's platform and S3 storage. By following this tutorial, you'll gain insights into targeted task deletion based on customized tags, optimizing your project's task management process.</p>"
   ]
  },
  {
   "cell_type": "code",
   "execution_count": null,
   "metadata": {},
   "outputs": [],
   "source": [
    "import requests\n",
    "from tqdm import tqdm\n",
    "import boto3\n",
    "from urllib.parse import urlparse"
   ]
  },
  {
   "cell_type": "markdown",
   "metadata": {},
   "source": [
    "# API Key and Client"
   ]
  },
  {
   "cell_type": "markdown",
   "metadata": {},
   "source": [
    "#### Provide a valid api key below in order to properly connect to the Beewant Client."
   ]
  },
  {
   "cell_type": "code",
   "execution_count": null,
   "metadata": {},
   "outputs": [],
   "source": [
    "# To get your API key go to: Workspace settings -> Account -> Access Token\n",
    "beewant_api_key = \"\"\n",
    "\n",
    "# A project ID is a unique identifier assigned to each project in Beewant\n",
    "current_project = \"\""
   ]
  },
  {
   "cell_type": "markdown",
   "metadata": {},
   "source": [
    "## Set aws credentials"
   ]
  },
  {
   "cell_type": "code",
   "execution_count": null,
   "metadata": {},
   "outputs": [],
   "source": [
    "# Replace 'abc' with your access key and 'def' with your secret key\n",
    "access_key = ''\n",
    "secret_key = ''\n",
    "region_name = ''\n",
    "\n",
    "# Initialize an S3 client\n",
    "s3 = boto3.client('s3', aws_access_key_id=access_key, aws_secret_access_key=secret_key, region_name = region_name)\n",
    "\n",
    "# Specify the bucket name\n",
    "bucket_name = ''"
   ]
  },
  {
   "cell_type": "markdown",
   "metadata": {},
   "source": [
    "## Import tasks from platform"
   ]
  },
  {
   "cell_type": "markdown",
   "metadata": {},
   "source": [
    "#### set platform credentials"
   ]
  },
  {
   "cell_type": "code",
   "execution_count": null,
   "metadata": {},
   "outputs": [],
   "source": [
    "url = f\"https://beewant.com/api/projects/{current_project}/tasks/?page=1&page_size=-1\"\n",
    "\n",
    "headers = {'Authorization': f'Token {beewant_api_key}',}\n",
    "\n",
    "tasks = requests.request(\"GET\", url, headers=headers)\n",
    "tasks=tasks.json()"
   ]
  },
  {
   "cell_type": "code",
   "execution_count": null,
   "metadata": {},
   "outputs": [],
   "source": [
    "# filtering tasks with 'delete' tag\n",
    "filtered_tasks = [task for task in tasks if any(\n",
    "    'delete' in tag for tag in task['tags']\n",
    ")]\n",
    "\n",
    "print(\"Number of filtered tasks: \",len(filtered_tasks))"
   ]
  },
  {
   "cell_type": "code",
   "execution_count": null,
   "metadata": {},
   "outputs": [],
   "source": [
    "\n",
    "# creating of a dict of tasks with task_id as key and image url as value\n",
    "task_dict = {task['id']: task['data']['image'] for task in filtered_tasks}"
   ]
  },
  {
   "cell_type": "code",
   "execution_count": null,
   "metadata": {},
   "outputs": [],
   "source": [
    "print(\"dictionnary of tasks ids and their path in s3:\",task_dict)"
   ]
  },
  {
   "cell_type": "markdown",
   "metadata": {},
   "source": [
    "## Deleting from aws storage"
   ]
  },
  {
   "cell_type": "code",
   "execution_count": null,
   "metadata": {},
   "outputs": [],
   "source": [
    "def delete_s3_files(bucket_name, files_to_delete, access_key, secret_key,region_name):\n",
    "    # Create an S3 client\n",
    "    s3 = boto3.client('s3', aws_access_key_id=access_key, aws_secret_access_key=secret_key, region_name=region_name)\n",
    "    \n",
    "    # Iterate over the list of files to delete\n",
    "    for file_path in tqdm(files_to_delete, desc=\"Deleting files\", unit=\"file\"):\n",
    "        # Parse the S3 URL to get the bucket name and file key\n",
    "        parsed_url = urlparse(file_path)\n",
    "        bucket_name = parsed_url.netloc\n",
    "        file_key = parsed_url.path[1:]  # Remove the leading '/' from the path\n",
    "\n",
    "        try:\n",
    "            # Delete the file from the S3 bucket\n",
    "            s3.delete_object(Bucket=bucket_name, Key=file_key)\n",
    "            #print(f\"Deleted file: {file_key}\")\n",
    "        except Exception as e:\n",
    "            print(f\"Error deleting file {file_key}: {str(e)}\")"
   ]
  },
  {
   "cell_type": "code",
   "execution_count": null,
   "metadata": {},
   "outputs": [],
   "source": [
    "# delete the files from s3\n",
    "delete_s3_files(bucket_name, task_dict.values(),access_key,secret_key,region_name)"
   ]
  },
  {
   "cell_type": "code",
   "execution_count": null,
   "metadata": {},
   "outputs": [],
   "source": [
    "# iterate over the tasks in the dict and replace the format of image (jpeg,jpg,webp,png) by json\n",
    "for task_id, image_url in tqdm(task_dict.items(), desc=\"Replacing image format by json\", unit=\"task\"):\n",
    "    # you can add other formats if needed, in this case we are working with images\n",
    "    task_dict[task_id] = image_url.replace(\".jpeg\", \".json\").replace(\".jpg\", \".json\").replace(\".png\", \".json\").replace(\".webp\", \".json\")\n",
    "\n",
    "# delete the json files from s3\n",
    "delete_s3_files(bucket_name, task_dict.values(),access_key,secret_key,region_name)"
   ]
  },
  {
   "cell_type": "markdown",
   "metadata": {},
   "source": [
    "# Deleting tasks from the platform"
   ]
  },
  {
   "cell_type": "code",
   "execution_count": null,
   "metadata": {},
   "outputs": [],
   "source": [
    "# delete these tasks from platform\n",
    "for task_id in tqdm(task_dict.keys(), desc=\"Deleting tasks\", unit=\"task\"):\n",
    "    url = f\"https://beewant.com/api/tasks/{task_id}/\"\n",
    "    response = requests.request(\"DELETE\", url, headers=headers)\n",
    "    print(f\"Deleted task: {task_id}\")"
   ]
  }
 ],
 "metadata": {
  "kernelspec": {
   "display_name": "Python 3",
   "language": "python",
   "name": "python3"
  },
  "language_info": {
   "codemirror_mode": {
    "name": "ipython",
    "version": 3
   },
   "file_extension": ".py",
   "mimetype": "text/x-python",
   "name": "python",
   "nbconvert_exporter": "python",
   "pygments_lexer": "ipython3",
   "version": "3.10.5"
  }
 },
 "nbformat": 4,
 "nbformat_minor": 2
}

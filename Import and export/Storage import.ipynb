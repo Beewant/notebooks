{
 "cells": [
  {
   "cell_type": "markdown",
   "metadata": {},
   "source": [
    "<td>\n",
    "   <a target=\"_blank\" href=\"https://beewant.com\" ><img src=\"https://media.licdn.com/dms/image/C4E0BAQFKjwZohF7zRA/company-logo_200_200/0/1655303818792?e=2147483647&v=beta&t=fmLrigj1HhqskB4jNk6aDb6XASTUx1SnRvMXWBPtuCY\"></a>\n",
    "</td>\n",
    "<p><B>Welcome to Beewant Platform Tutorial</B></p>"
   ]
  },
  {
   "attachments": {},
   "cell_type": "markdown",
   "metadata": {},
   "source": [
    "<td>\n",
    "    <a href=\"https://www.linkedin.com/in/beewant/\" target=\"_blank\">\n",
    "        <img src=\"https://img.shields.io/badge/LinkedIn-0077B5?logo=linkedin&logoColor=white\" alt=\"LinkedIn\">\n",
    "    </a>\n",
    "</td>\n",
    "\n",
    "<td>\n",
    "    <a href=\"https://beewant.slack.com/\" target=\"_blank\">\n",
    "        <img src=\"https://img.shields.io/badge/Slack-4A154B?logo=slack&logoColor=white\" alt=\"Slack\">\n",
    "    </a>\n",
    "</td>"
   ]
  },
  {
   "attachments": {},
   "cell_type": "markdown",
   "metadata": {},
   "source": [
    "<p>In this section, we will explore how to retrieve storage information using the Beewant API. Storage plays a crucial role in managing the assets and data associated with your projects. Beewant provides a flexible storage system that allows you to manage files and data efficiently. By utilizing the Beewant API, you can programmatically retrieve details about a specific storage, such as its title, description, bucket information, access credentials, and more.</p>\n",
    "\n",
    "<p>We will walk through the process of making API requests to retrieve storage information, including how to provide the necessary authorization using your Beewant API key. This information can be invaluable for managing and integrating your storage resources effectively into your projects. Let's dive into the code examples and see how to interact with the Beewant API to retrieve storage details.</p>"
   ]
  },
  {
   "cell_type": "code",
   "execution_count": null,
   "metadata": {},
   "outputs": [],
   "source": [
    "import requests\n",
    "import json"
   ]
  },
  {
   "cell_type": "markdown",
   "metadata": {},
   "source": [
    "# API Key and Client\n",
    "Provide a valid api key below in order to properly connect to the Beewant Client."
   ]
  },
  {
   "cell_type": "code",
   "execution_count": null,
   "metadata": {},
   "outputs": [],
   "source": [
    "# To get your API key go to: Workspace settings -> Account -> Access Token\n",
    "beewant_api_key = \"\""
   ]
  },
  {
   "cell_type": "markdown",
   "metadata": {},
   "source": [
    "Test your API"
   ]
  },
  {
   "cell_type": "code",
   "execution_count": null,
   "metadata": {},
   "outputs": [],
   "source": [
    "# The URL to make the API request to\n",
    "url = \"https://beewant.com/api/projects\"\n",
    "\n",
    "# Replace {API_KEY} with your actual API key for authentication\n",
    "headers = {\n",
    "    'Authorization': f'Token {beewant_api_key}'\n",
    "}\n",
    "\n",
    "# Sending a GET request to the API endpoint with the headers for authentication\n",
    "response = requests.request(\"GET\", url, headers=headers)\n",
    "\n",
    "# Check the response status code to verify the request was successful\n",
    "if response.status_code == 200:\n",
    "    # If the status code is 200, the request was successful, and we can access the JSON data\n",
    "    data = response.json()\n",
    "    print(\"API response:\")\n",
    "    print(data)\n",
    "else:\n",
    "    # If the status code is not 200, there was an error in the request\n",
    "    print(f\"Error: {response.status_code} - {response.text}\")"
   ]
  },
  {
   "attachments": {},
   "cell_type": "markdown",
   "metadata": {},
   "source": [
    "# Storage Import operations"
   ]
  },
  {
   "attachments": {},
   "cell_type": "markdown",
   "metadata": {},
   "source": [
    "### Getting all import storage"
   ]
  },
  {
   "cell_type": "code",
   "execution_count": null,
   "metadata": {},
   "outputs": [],
   "source": [
    "# To get your API key go to: Workspace settings -> Account -> Access Token\n",
    "beewant_api_key = \"\"\n",
    "\n",
    "# Replace 'PROJECT_ID' with the actual project ID you want to fetch storage information for\n",
    "PROJECT_ID = \"\""
   ]
  },
  {
   "cell_type": "code",
   "execution_count": null,
   "metadata": {},
   "outputs": [],
   "source": [
    "# Define the API endpoint URL with the placeholder for PROJECT_ID\n",
    "url = f'https://beewant.com/api/storages/s3?project={PROJECT_ID}'\n",
    "\n",
    "# Define the headers with authorization\n",
    "headers = {\n",
    "    'Authorization': f'Token {beewant_api_key}'\n",
    "}\n",
    "\n",
    "# Send a GET request to the API endpoint\n",
    "response = requests.get(url, headers=headers)\n",
    "\n",
    "# Print the response object, including status code and headers\n",
    "print(response)\n",
    "\n",
    "# Parse the JSON content from the response\n",
    "data = response.json()\n",
    "\n",
    "# Print the parsed JSON data\n",
    "print(data)\n"
   ]
  },
  {
   "attachments": {},
   "cell_type": "markdown",
   "metadata": {},
   "source": [
    "#### Getting specific import storage"
   ]
  },
  {
   "cell_type": "code",
   "execution_count": null,
   "metadata": {},
   "outputs": [],
   "source": [
    "# To get your API key go to: Workspace settings -> Account -> Access Token\n",
    "beewant_api_key = \"\"\n",
    "\n",
    "# Replace 'S3_ID' with the actual storage ID you want to fetch information for.\n",
    "S3_ID = \"\""
   ]
  },
  {
   "cell_type": "code",
   "execution_count": null,
   "metadata": {},
   "outputs": [],
   "source": [
    "# Define the API endpoint URL with the placeholder for S3_ID\n",
    "url = f'https://beewant.com/api/storages/s3/{S3_ID}'\n",
    "\n",
    "# Define the headers with authorization\n",
    "headers = {\n",
    "    'Authorization': f'Token {beewant_api_key}'\n",
    "}\n",
    "\n",
    "# Send a GET request to the API endpoint\n",
    "response = requests.get(url, headers=headers)\n",
    "\n",
    "# Print the response object, including status code and headers\n",
    "print(response)\n",
    "\n",
    "# Parse the JSON content from the response\n",
    "data = response.json()\n",
    "\n",
    "# Print the parsed JSON data\n",
    "print(data)\n"
   ]
  },
  {
   "attachments": {},
   "cell_type": "markdown",
   "metadata": {},
   "source": [
    "### Validating a storage "
   ]
  },
  {
   "cell_type": "code",
   "execution_count": null,
   "metadata": {},
   "outputs": [],
   "source": [
    "# Replace 'api_beewant_key' with your actual API key\n",
    "beewant_api_key = \"\"\n",
    "\n",
    "# Define the payload data using a dictionary\n",
    "payload = {\n",
    "    \"title\": \"Import Storage 1\",\n",
    "    \"description\": \"description\",\n",
    "    \"can_delete_objects\": False,\n",
    "    \"bucket\": \"S3_BUCKET_NAME\",\n",
    "    \"prefix\": \"S3_BUCKET_PREFIX\",\n",
    "    \"presign_ttl\": 1,\n",
    "    \"aws_access_key_id\": \"AWS_ACCESS_KEY_ID\",\n",
    "    \"aws_secret_access_key\": \"AWS_SECRET_KEY\",\n",
    "    \"region_name\": \"AWS_REGION_NAME\",\n",
    "    \"use_blob_urls\": True,\n",
    "    \"project\": \"PROJECT_ID\"\n",
    "}"
   ]
  },
  {
   "cell_type": "code",
   "execution_count": null,
   "metadata": {},
   "outputs": [],
   "source": [
    "# Define the API endpoint URL\n",
    "url = \"https://beewant.com/api/storages/s3/validate\"\n",
    "\n",
    "# Convert the payload to JSON format\n",
    "payload_json = json.dumps(payload)\n",
    "\n",
    "# Define the headers with authorization and content type\n",
    "headers = {\n",
    "    'Authorization': f'Token {beewant_api_key}',\n",
    "    'Content-Type': 'application/json',\n",
    "}\n",
    "\n",
    "# Send a POST request to the API endpoint\n",
    "response = requests.post(url, headers=headers, data=payload_json)\n",
    "\n",
    "# Print the response object, including status code and headers\n",
    "print(response)"
   ]
  },
  {
   "attachments": {},
   "cell_type": "markdown",
   "metadata": {},
   "source": [
    "### Creating a storage "
   ]
  },
  {
   "cell_type": "code",
   "execution_count": null,
   "metadata": {},
   "outputs": [],
   "source": [
    "# To get your API key go to: Workspace settings -> Account -> Access Token\n",
    "beewant_api_key = \"\"\n",
    "\n",
    "# Define the payload data using JSON\n",
    "payload = {\n",
    "    \"title\": \"Source Storage 2\",\n",
    "    \"description\": \"description\",\n",
    "    \"can_delete_objects\": False,\n",
    "    \"bucket\": \"S3_BUCKET_NAME\",\n",
    "    \"prefix\": \"S3_BUCKET_PREFIX\",\n",
    "    \"presign_ttl\": 1,\n",
    "    \"aws_access_key_id\": \"AWS_ACCESS_KEY_ID\",\n",
    "    \"aws_secret_access_key\": \"AWS_SECRET_KEY\",\n",
    "    \"region_name\": \"AWS_REGION_NAME\",\n",
    "    \"use_blob_urls\": True,\n",
    "    \"project\": \"PROJECT_ID\"\n",
    "}"
   ]
  },
  {
   "cell_type": "code",
   "execution_count": null,
   "metadata": {},
   "outputs": [],
   "source": [
    "# Define the API endpoint URL\n",
    "url = \"https://beewant.com/api/storages/s3\"\n",
    "\n",
    "# Convert the payload to JSON format\n",
    "payload_json = json.dumps(payload)\n",
    "\n",
    "# Define the headers with authorization and content type\n",
    "headers = {\n",
    "    'Authorization': f'Token {beewant_api_key}',\n",
    "    'Content-Type': 'application/json'\n",
    "}\n",
    "\n",
    "# Send a POST request to the API endpoint\n",
    "response = requests.post(url, headers=headers, data=payload_json)\n",
    "\n",
    "# Print the response object, including status code and headers\n",
    "print(response)\n",
    "\n",
    "# Note: The response content is not printed in this code, but you can parse and print it if needed\n"
   ]
  },
  {
   "attachments": {},
   "cell_type": "markdown",
   "metadata": {},
   "source": [
    "### Syncing import storage"
   ]
  },
  {
   "cell_type": "code",
   "execution_count": null,
   "metadata": {},
   "outputs": [],
   "source": [
    "# Replace 'api_beewant_key' with your actual API key\n",
    "beewant_api_key = \"\"\n",
    "\n",
    "# Replace 'S3_ID' with the actual storage ID you want to synchronize\n",
    "S3_ID = \"\""
   ]
  },
  {
   "cell_type": "code",
   "execution_count": null,
   "metadata": {},
   "outputs": [],
   "source": [
    "# Define the API endpoint URL\n",
    "url = f'https://beewant.com/api/storages/s3/{S3_ID}/sync'\n",
    "\n",
    "# Define the headers with authorization\n",
    "headers = {\n",
    "    'Authorization': f'Token {beewant_api_key}'\n",
    "}\n",
    "# Send a POST request to the API endpoint\n",
    "response = requests.post(url, headers=headers)\n",
    "\n",
    "# Print the response object, including status code and headers\n",
    "print(response)"
   ]
  },
  {
   "attachments": {},
   "cell_type": "markdown",
   "metadata": {},
   "source": [
    "### Updating import storage"
   ]
  },
  {
   "cell_type": "code",
   "execution_count": null,
   "metadata": {},
   "outputs": [],
   "source": [
    "# Define the API key\n",
    "beewant_api_key = ''\n",
    "\n",
    "# Replace 'S3_ID' with the actual storage ID you want to synchronize\n",
    "S3_ID = ''\n",
    "\n",
    "# Define the payload data\n",
    "payload = json.dumps({\n",
    "    \"title\": \"Source Storage 2 modified\"\n",
    "})"
   ]
  },
  {
   "cell_type": "code",
   "execution_count": null,
   "metadata": {},
   "outputs": [],
   "source": [
    "# Define the headers with authorization and content type\n",
    "headers = {\n",
    "    'Authorization': f'Token {beewant_api_key}',\n",
    "    'Content-Type': 'application/json'\n",
    "}\n",
    "\n",
    "# Define the API endpoint URL\n",
    "url = f'https://beewant.com/api/storages/s3/{S3_ID}?id={S3_ID}'\n",
    "\n",
    "\n",
    "# Send a PATCH request to the API endpoint\n",
    "response = requests.patch(url, headers=headers, data=payload)\n",
    "\n",
    "# Print the response object, including status code and headers\n",
    "print(response)\n",
    "\n",
    "# Parse the JSON content from the response and print it\n",
    "print(response.json())"
   ]
  },
  {
   "attachments": {},
   "cell_type": "markdown",
   "metadata": {},
   "source": [
    "### Deleting Import storage"
   ]
  },
  {
   "cell_type": "code",
   "execution_count": null,
   "metadata": {},
   "outputs": [],
   "source": [
    "# Define the API key\n",
    "beewant_api_key = ''\n",
    "\n",
    "# Replace 'S3_ID' with the actual storage ID you want to synchronize\n",
    "S3_ID = ''"
   ]
  },
  {
   "cell_type": "code",
   "execution_count": null,
   "metadata": {},
   "outputs": [],
   "source": [
    "url = f'https://beewant.com/api/storages/s3/{S3_ID}'\n",
    "\n",
    "headers = {\n",
    "        'Authorization': f'Token {beewant_api_key}'\n",
    "}\n",
    "\n",
    "response = requests.request(\"DELETE\", url, headers=headers)\n",
    "print(response)"
   ]
  }
 ],
 "metadata": {
  "language_info": {
   "name": "python"
  },
  "orig_nbformat": 4
 },
 "nbformat": 4,
 "nbformat_minor": 2
}

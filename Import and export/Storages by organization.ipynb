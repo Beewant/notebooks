{
 "cells": [
  {
   "cell_type": "markdown",
   "metadata": {},
   "source": [
    "<td>\n",
    "   <a target=\"_blank\" href=\"https://beewant.com\" ><img src=\"https://media.licdn.com/dms/image/C4E0BAQFKjwZohF7zRA/company-logo_200_200/0/1655303818792?e=2147483647&v=beta&t=fmLrigj1HhqskB4jNk6aDb6XASTUx1SnRvMXWBPtuCY\"></a>\n",
    "</td>\n",
    "<p><B>Welcome to Beewant Platform Tutorial</B></p>"
   ]
  },
  {
   "cell_type": "markdown",
   "metadata": {},
   "source": [
    "<td>\n",
    "    <a href=\"https://www.linkedin.com/in/beewant/\" target=\"_blank\">\n",
    "        <img src=\"https://img.shields.io/badge/LinkedIn-0077B5?logo=linkedin&logoColor=white\" alt=\"LinkedIn\">\n",
    "    </a>\n",
    "</td>\n",
    "\n",
    "<td>\n",
    "    <a href=\"https://beewant.slack.com/\" target=\"_blank\">\n",
    "        <img src=\"https://img.shields.io/badge/Slack-4A154B?logo=slack&logoColor=white\" alt=\"Slack\">\n",
    "    </a>\n",
    "</td>"
   ]
  },
  {
   "cell_type": "markdown",
   "metadata": {},
   "source": [
    "<p>In this tutorial, we will walk you through the steps of obtaining the comprehensive list of storage and target sources for every project within your organization on the BeeWant platform. Learn how to efficiently navigate the platform's features to access information about cloud storage associated with each project. By following this tutorial, you will gain valuable insights into the organization's cloud infrastructure, facilitating a better understanding of data storage and target sources across multiple projects.</p>"
   ]
  },
  {
   "cell_type": "code",
   "execution_count": 2,
   "metadata": {},
   "outputs": [],
   "source": [
    "import requests\n",
    "from tqdm import tqdm"
   ]
  },
  {
   "cell_type": "markdown",
   "metadata": {},
   "source": [
    "## Fetching the Organizations"
   ]
  },
  {
   "cell_type": "code",
   "execution_count": null,
   "metadata": {},
   "outputs": [],
   "source": [
    "# endpoint for getting all organizations\n",
    "url = \"https://beewant.com/api/organizations/\"\n",
    "\n",
    "# the access token for the api\n",
    "key = ''"
   ]
  },
  {
   "cell_type": "code",
   "execution_count": 5,
   "metadata": {},
   "outputs": [
    {
     "name": "stdout",
     "output_type": "stream",
     "text": [
      "[{'id': 154, 'title': 'Test Org', 'token': 'a2f8cf6592561ede', 'created_by': 11}, {'id': 179, 'title': 'Workspace', 'token': '5d2a71c57a03ca88', 'created_by': 75}, {'id': 195, 'title': 'test tags', 'token': '7750681d2c9b8a5a', 'created_by': 75}, {'id': 196, 'title': 'test new organization', 'token': '82a78506001731bf', 'created_by': 75}]\n"
     ]
    }
   ],
   "source": [
    "# set the headers of the request\n",
    "headers = {'Authorization': f'Token {key}',}\n",
    "\n",
    "# make the request\n",
    "response = requests.request(\"GET\", url, headers=headers)\n",
    "\n",
    "# get the json data\n",
    "if response.status_code == 200:\n",
    "    data = response.json()\n",
    "else:\n",
    "    print('Error: ', response.status_code)"
   ]
  },
  {
   "cell_type": "code",
   "execution_count": 6,
   "metadata": {},
   "outputs": [
    {
     "data": {
      "text/plain": [
       "[154, 179, 195, 196]"
      ]
     },
     "execution_count": 6,
     "metadata": {},
     "output_type": "execute_result"
    }
   ],
   "source": [
    "# select ids of organizations and put them in a list\n",
    "existing_organizations = []\n",
    "for i in range(len(response)):\n",
    "    existing_organizations.append(response[i]['id'])\n",
    "existing_organizations"
   ]
  },
  {
   "cell_type": "code",
   "execution_count": 9,
   "metadata": {},
   "outputs": [
    {
     "data": {
      "text/plain": [
       "{154: 'Test Org',\n",
       " 179: 'Workspace',\n",
       " 195: 'test tags',\n",
       " 196: 'test new organization'}"
      ]
     },
     "execution_count": 9,
     "metadata": {},
     "output_type": "execute_result"
    }
   ],
   "source": [
    "# save the organizations and their titles in a dictionary\n",
    "existing_organizations_dict = {}\n",
    "for i in range(len(response)):\n",
    "    existing_organizations_dict[response[i]['id']] = response[i]['title']\n",
    "existing_organizations_dict"
   ]
  },
  {
   "cell_type": "code",
   "execution_count": 14,
   "metadata": {},
   "outputs": [],
   "source": [
    "# create the list of ids of organizations from the dictionary\n",
    "existing_organizations = list(existing_organizations_dict.keys())"
   ]
  },
  {
   "cell_type": "code",
   "execution_count": 17,
   "metadata": {},
   "outputs": [],
   "source": [
    "# organization list to be set by the user\n",
    "organizations = existing_organizations"
   ]
  },
  {
   "cell_type": "markdown",
   "metadata": {},
   "source": [
    "## Fetching the projects"
   ]
  },
  {
   "cell_type": "code",
   "execution_count": 18,
   "metadata": {},
   "outputs": [],
   "source": [
    "# fetching all projects from the organizations\n",
    "url = \"https://beewant.com/api/projects/\"\n",
    "\n",
    "# the access token for the api\n",
    "headers = {'Authorization': f'Token {key}',}\n",
    "\n",
    "# make the request\n",
    "response = requests.request(\"GET\", url, headers=headers)\n",
    "\n",
    "# get the json data\n",
    "if response.status_code == 200:\n",
    "    data = response.json()\n",
    "else:\n",
    "    print('Error: ', response.status_code)"
   ]
  },
  {
   "cell_type": "code",
   "execution_count": 19,
   "metadata": {},
   "outputs": [
    {
     "data": {
      "text/plain": [
       "{154: [1233, 1229, 1227, 1223, 1221, 1219, 1208, 1168, 1162, 1147, 1111, 1011],\n",
       " 179: [1132, 1131, 1130],\n",
       " 195: [1259, 1257],\n",
       " 196: [1264]}"
      ]
     },
     "execution_count": 19,
     "metadata": {},
     "output_type": "execute_result"
    }
   ],
   "source": [
    "# reconstruct the dictionary of projects according to the organization id\n",
    "projects = {}\n",
    "for organization in organizations:\n",
    "    projects[organization] = []\n",
    "    for project in response['results']:\n",
    "        if project['organization'] == organization:\n",
    "            projects[organization].append(project['id'])\n",
    "            \n",
    "# display dict of projects and their organization\n",
    "projects"
   ]
  },
  {
   "cell_type": "markdown",
   "metadata": {},
   "source": [
    "## Cloud Storage\n"
   ]
  },
  {
   "cell_type": "code",
   "execution_count": 20,
   "metadata": {},
   "outputs": [
    {
     "name": "stdout",
     "output_type": "stream",
     "text": [
      "Organization Title: Test Org | Organization ID: 154\n",
      "Project Title: Project | Project ID: 1233\n",
      "Source Storage Data: []\n",
      "Export Storage Data: []\n",
      "==============================\n",
      "Organization Title: Test Org | Organization ID: 154\n",
      "Project Title: Project | Project ID: 1229\n",
      "Source Storage Data: []\n",
      "Export Storage Data: []\n",
      "==============================\n",
      "Organization Title: Test Org | Organization ID: 154\n",
      "Project Title: Project | Project ID: 1227\n",
      "Source Storage Data: []\n",
      "Export Storage Data: []\n",
      "==============================\n",
      "Organization Title: Test Org | Organization ID: 154\n",
      "Project Title: Project | Project ID: 1223\n",
      "Source Storage Data: []\n",
      "Export Storage Data: []\n",
      "==============================\n",
      "Organization Title: Test Org | Organization ID: 154\n",
      "Project Title: Testing the error of search for image captioning | Project ID: 1221\n",
      "Source Storage Data: [{'id': 152, 'type': 's3', 'presign': True, 'title': '', 'description': None, 'created_at': '2023-11-29T12:30:42.995332Z', 'last_sync': '2023-11-29T12:30:46.940294Z', 'last_sync_count': 204, 'bucket': 'a.soulala', 'prefix': '', 'regex_filter': '', 'use_blob_urls': True, 'aws_session_token': None, 'region_name': 'us-east-2', 's3_endpoint': '', 'presign_ttl': 60, 'recursive_scan': False, 'project': 1221}]\n",
      "Export Storage Data: []\n",
      "==============================\n",
      "Organization Title: Test Org | Organization ID: 154\n",
      "Project Title: Checking the error while searching by name | Project ID: 1219\n",
      "Source Storage Data: [{'id': 151, 'type': 's3', 'presign': True, 'title': '', 'description': None, 'created_at': '2023-11-29T12:15:33.637355Z', 'last_sync': '2023-11-29T12:16:00.306344Z', 'last_sync_count': 203, 'bucket': 'a.soulala', 'prefix': '', 'regex_filter': '', 'use_blob_urls': True, 'aws_session_token': None, 'region_name': 'us-east-2', 's3_endpoint': '', 'presign_ttl': 1, 'recursive_scan': False, 'project': 1219}]\n",
      "Export Storage Data: [{'id': 24, 'type': 's3', 'title': '', 'description': None, 'created_at': '2023-11-29T12:19:23.223804Z', 'last_sync': '2023-11-29T12:24:03.560250Z', 'last_sync_count': 1, 'can_delete_objects': True, 'bucket': 'a.soulala', 'prefix': '', 'regex_filter': None, 'use_blob_urls': False, 'aws_session_token': None, 'region_name': 'us-east-2', 's3_endpoint': '', 'project': 1219}]\n",
      "==============================\n",
      "Organization Title: Test Org | Organization ID: 154\n",
      "Project Title: Project | Project ID: 1208\n",
      "Source Storage Data: []\n",
      "Export Storage Data: []\n",
      "==============================\n",
      "Organization Title: Test Org | Organization ID: 154\n",
      "Project Title: Testing GCP | Project ID: 1168\n",
      "Source Storage Data: []\n",
      "Export Storage Data: [{'id': 23, 'type': 's3', 'title': '', 'description': None, 'created_at': '2023-11-27T15:55:01.343716Z', 'last_sync': '2023-11-27T15:56:04.198803Z', 'last_sync_count': 4, 'can_delete_objects': False, 'bucket': 'ismail.gadraoui', 'prefix': 'TestEmbeddings/', 'regex_filter': None, 'use_blob_urls': False, 'aws_session_token': None, 'region_name': 'eu-west-3', 's3_endpoint': '', 'project': 1168}]\n",
      "==============================\n",
      "Organization Title: Test Org | Organization ID: 154\n",
      "Project Title: Testtt | Project ID: 1162\n",
      "Source Storage Data: []\n",
      "Export Storage Data: [{'id': 22, 'type': 's3', 'title': '', 'description': None, 'created_at': '2023-11-20T17:50:46.595493Z', 'last_sync': '2023-11-20T17:53:39.692686Z', 'last_sync_count': 1, 'can_delete_objects': False, 'bucket': 'a.soulala', 'prefix': '', 'regex_filter': None, 'use_blob_urls': False, 'aws_session_token': None, 'region_name': 'us-east-2', 's3_endpoint': '', 'project': 1162}]\n",
      "==============================\n",
      "Organization Title: Test Org | Organization ID: 154\n",
      "Project Title: Project | Project ID: 1147\n",
      "Source Storage Data: []\n",
      "Export Storage Data: []\n",
      "==============================\n",
      "Organization Title: Test Org | Organization ID: 154\n",
      "Project Title: Project | Project ID: 1111\n",
      "Source Storage Data: [{'id': 142, 'type': 's3', 'presign': True, 'title': '', 'description': None, 'created_at': '2023-11-20T14:44:08.811269Z', 'last_sync': '2023-11-20T14:44:13.684342Z', 'last_sync_count': 205, 'bucket': 'a.soulala', 'prefix': '', 'regex_filter': '', 'use_blob_urls': True, 'aws_session_token': None, 'region_name': 'us-east-2', 's3_endpoint': '', 'presign_ttl': 60, 'recursive_scan': False, 'project': 1111}]\n",
      "Export Storage Data: []\n",
      "==============================\n",
      "Organization Title: Test Org | Organization ID: 154\n",
      "Project Title: Test Meta | Project ID: 1011\n",
      "Source Storage Data: []\n",
      "Export Storage Data: []\n",
      "==============================\n",
      "Organization Title: Workspace | Organization ID: 179\n",
      "Project Title: Project2 | Project ID: 1132\n",
      "Source Storage Data: []\n",
      "Export Storage Data: []\n",
      "==============================\n",
      "Organization Title: Workspace | Organization ID: 179\n",
      "Project Title: Project | Project ID: 1131\n",
      "Source Storage Data: []\n",
      "Export Storage Data: []\n",
      "==============================\n",
      "Organization Title: Workspace | Organization ID: 179\n",
      "Project Title: Project | Project ID: 1130\n",
      "Source Storage Data: []\n",
      "Export Storage Data: []\n",
      "==============================\n",
      "Organization Title: test tags | Organization ID: 195\n",
      "Project Title: Testing the tags | Project ID: 1259\n",
      "Source Storage Data: []\n",
      "Export Storage Data: []\n",
      "==============================\n",
      "Organization Title: test tags | Organization ID: 195\n",
      "Project Title: Project | Project ID: 1257\n",
      "Source Storage Data: []\n",
      "Export Storage Data: []\n",
      "==============================\n",
      "Organization Title: test new organization | Organization ID: 196\n",
      "Project Title: Project | Project ID: 1264\n",
      "Source Storage Data: [{'id': 155, 'type': 's3', 'presign': True, 'title': '', 'description': None, 'created_at': '2023-12-07T11:29:53.270809Z', 'last_sync': '2023-12-07T11:29:59.273399Z', 'last_sync_count': 213, 'bucket': 'a.soulala', 'prefix': '', 'regex_filter': '', 'use_blob_urls': True, 'aws_session_token': None, 'region_name': 'us-east-2', 's3_endpoint': '', 'presign_ttl': 10, 'recursive_scan': False, 'project': 1264}, {'id': 156, 'type': 's3', 'presign': True, 'title': '', 'description': None, 'created_at': '2023-12-07T11:35:42.162383Z', 'last_sync': None, 'last_sync_count': None, 'bucket': '4bcdfb7c8af8bd8bb382ad4b0b938fd91cabc9fa', 'prefix': '', 'regex_filter': '', 'use_blob_urls': True, 'aws_session_token': None, 'region_name': 'eu-west-3', 's3_endpoint': '', 'presign_ttl': 10, 'recursive_scan': False, 'project': 1264}]\n",
      "Export Storage Data: []\n",
      "==============================\n"
     ]
    }
   ],
   "source": [
    "# Iterate on organizations and projects list\n",
    "for organization in organizations:\n",
    "    # Display organization title and id from existing_organizations_dict dictionary\n",
    "    if organization in existing_organizations_dict:\n",
    "        organization_title = existing_organizations_dict[organization]\n",
    "    \n",
    "    for project in projects[organization]:\n",
    "        # Display project title and id\n",
    "        url_project_info = f\"https://beewant.com/api/projects/{project}/\"\n",
    "        headers_project_info = {'Authorization': f'Token {key}'}\n",
    "        response_project_info = requests.get(url_project_info, headers=headers_project_info)\n",
    "        project_info = response_project_info.json()\n",
    "\n",
    "        # Build the API URL for source storage\n",
    "        source_storage_url = f\"https://beewant.com/api/storages/s3?project={project}\"\n",
    "\n",
    "        # Make the API call for source storage\n",
    "        source_storage_response = requests.get(source_storage_url, headers=headers)\n",
    "        source_storage_data = source_storage_response.json()\n",
    "\n",
    "        # Display information for source storage\n",
    "        print(f\"Organization Title: {organization_title} | Organization ID: {organization}\")\n",
    "        print(f\"Project Title: {project_info['title']} | Project ID: {project_info['id']}\")\n",
    "        print(\"Source Storage Data:\",source_storage_data)\n",
    "\n",
    "\n",
    "        # Build the API URL for export storage\n",
    "        export_storage_url = f\"https://beewant.com/api/storages/export/s3?project={project}\"\n",
    "\n",
    "        # Make the API call for export storage\n",
    "        export_storage_response = requests.get(export_storage_url, headers=headers)\n",
    "        export_storage_data = export_storage_response.json()\n",
    "\n",
    "        # Display information for export storage\n",
    "        print(\"Export Storage Data:\",export_storage_data)\n",
    "        print(\"=\" * 30)  # Add a line to separate information for different projects\n"
   ]
  }
 ],
 "metadata": {
  "kernelspec": {
   "display_name": "Python 3",
   "language": "python",
   "name": "python3"
  },
  "language_info": {
   "codemirror_mode": {
    "name": "ipython",
    "version": 3
   },
   "file_extension": ".py",
   "mimetype": "text/x-python",
   "name": "python",
   "nbconvert_exporter": "python",
   "pygments_lexer": "ipython3",
   "version": "3.10.5"
  }
 },
 "nbformat": 4,
 "nbformat_minor": 2
}

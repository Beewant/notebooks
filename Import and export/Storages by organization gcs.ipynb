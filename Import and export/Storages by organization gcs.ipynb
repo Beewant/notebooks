{
 "cells": [
  {
   "cell_type": "markdown",
   "metadata": {},
   "source": [
    "<td>\n",
    "   <a target=\"_blank\" href=\"http://127.0.0.1:8080\" ><img src=\"https://media.licdn.com/dms/image/C4E0BAQFKjwZohF7zRA/company-logo_200_200/0/1655303818792?e=2147483647&v=beta&t=fmLrigj1HhqskB4jNk6aDb6XASTUx1SnRvMXWBPtuCY\"></a>\n",
    "</td>\n",
    "<p><B>Welcome to Beewant Platform Tutorial</B></p>"
   ]
  },
  {
   "cell_type": "markdown",
   "metadata": {},
   "source": [
    "<td>\n",
    "    <a href=\"https://www.linkedin.com/in/beewant/\" target=\"_blank\">\n",
    "        <img src=\"https://img.shields.io/badge/LinkedIn-0077B5?logo=linkedin&logoColor=white\" alt=\"LinkedIn\">\n",
    "    </a>\n",
    "</td>\n",
    "\n",
    "<td>\n",
    "    <a href=\"https://beewant.slack.com/\" target=\"_blank\">\n",
    "        <img src=\"https://img.shields.io/badge/Slack-4A154B?logo=slack&logoColor=white\" alt=\"Slack\">\n",
    "    </a>\n",
    "</td>"
   ]
  },
  {
   "cell_type": "markdown",
   "metadata": {},
   "source": [
    "<p>In this tutorial, we will walk you through the steps of obtaining the comprehensive list of storage and target sources for every project within your organization on the Beewant platform, specifically focusing on Google Cloud Storage. Learn how to efficiently navigate the platform's features to access information about Google Cloud Storage associated with each project. By following this tutorial, you will gain valuable insights into the organization's Google Cloud infrastructure, facilitating a better understanding of data storage and target sources across multiple projects.</p>"
   ]
  },
  {
   "cell_type": "code",
   "execution_count": null,
   "metadata": {},
   "outputs": [],
   "source": [
    "import requests\n",
    "import json"
   ]
  },
  {
   "cell_type": "markdown",
   "metadata": {},
   "source": [
    "## Fetching the Organizations"
   ]
  },
  {
   "cell_type": "code",
   "execution_count": null,
   "metadata": {},
   "outputs": [],
   "source": [
    "# endpoint for getting all organizations\n",
    "url = \"https://beewant.com/api/organizations/\"\n",
    "\n",
    "# the access token for the api\n",
    "beewant_api_key = ''"
   ]
  },
  {
   "cell_type": "code",
   "execution_count": null,
   "metadata": {},
   "outputs": [],
   "source": [
    "# set the headers of the request\n",
    "headers = {'Authorization': f'Token {beewant_api_key}',}\n",
    "\n",
    "# make the request\n",
    "response = requests.request(\"GET\", url, headers=headers)\n",
    "\n",
    "# get the json data\n",
    "if response.status_code == 200:\n",
    "    response = response.json()\n",
    "else:\n",
    "    print('Error: ', response.status_code)"
   ]
  },
  {
   "cell_type": "code",
   "execution_count": null,
   "metadata": {},
   "outputs": [],
   "source": [
    "# select ids of organizations and put them in a list\n",
    "existing_organizations = []\n",
    "for i in range(len(response)):\n",
    "    existing_organizations.append(response[i]['id'])\n",
    "existing_organizations"
   ]
  },
  {
   "cell_type": "code",
   "execution_count": null,
   "metadata": {},
   "outputs": [],
   "source": [
    "# save the organizations and their titles in a dictionary\n",
    "existing_organizations_dict = {}\n",
    "for i in range(len(response)):\n",
    "    existing_organizations_dict[response[i]['id']] = response[i]['title']\n",
    "existing_organizations_dict"
   ]
  },
  {
   "cell_type": "code",
   "execution_count": null,
   "metadata": {},
   "outputs": [],
   "source": [
    "# create the list of ids of organizations from the dictionary\n",
    "existing_organizations = list(existing_organizations_dict.keys())"
   ]
  },
  {
   "cell_type": "code",
   "execution_count": null,
   "metadata": {},
   "outputs": [],
   "source": [
    "# organization list to be set by the user\n",
    "organizations = existing_organizations"
   ]
  },
  {
   "cell_type": "markdown",
   "metadata": {},
   "source": [
    "## Fetching the projects"
   ]
  },
  {
   "cell_type": "code",
   "execution_count": null,
   "metadata": {},
   "outputs": [],
   "source": [
    "# fetching all projects from the organizations\n",
    "url = \"https://beewant.com/api/projects/\"\n",
    "\n",
    "# the access token for the api\n",
    "headers = {'Authorization': f'Token {beewant_api_key}',}\n",
    "\n",
    "# make the request\n",
    "response = requests.request(\"GET\", url, headers=headers)\n",
    "\n",
    "# get the json data\n",
    "if response.status_code == 200:\n",
    "    response = response.json()\n",
    "else:\n",
    "    print('Error: ', response.status_code)"
   ]
  },
  {
   "cell_type": "code",
   "execution_count": null,
   "metadata": {},
   "outputs": [],
   "source": [
    "# reconstruct the dictionary of projects according to the organization id\n",
    "projects = {}\n",
    "for organization in organizations:\n",
    "    projects[organization] = []\n",
    "    for project in response['results']:\n",
    "        if project['organization'] == organization:\n",
    "            projects[organization].append(project['id'])\n",
    "            \n",
    "# display dict of projects and their organization\n",
    "projects"
   ]
  },
  {
   "cell_type": "markdown",
   "metadata": {},
   "source": [
    "## Cloud Storage"
   ]
  },
  {
   "cell_type": "code",
   "execution_count": null,
   "metadata": {},
   "outputs": [],
   "source": [
    "# Iterate on organizations and projects list\n",
    "for organization in organizations:\n",
    "    # Display organization title and id from existing_organizations_dict dictionary\n",
    "    if organization in existing_organizations_dict:\n",
    "        organization_title = existing_organizations_dict[organization]\n",
    "    \n",
    "    for project in projects[organization]:\n",
    "        # Display project title and id\n",
    "        url_project_info = f\"https://beewant.com/api/projects/{project}/\"\n",
    "        headers_project_info = {'Authorization': f'Token {beewant_api_key}'}\n",
    "        response_project_info = requests.get(url_project_info, headers=headers_project_info)\n",
    "        project_info = response_project_info.json()\n",
    "\n",
    "        # Build the API URL for source storage\n",
    "        source_storage_url = f\"https://beewant.com/api/storages/gcs?project={project}\"\n",
    "\n",
    "        # Make the API call for source storage\n",
    "        source_storage_response = requests.get(source_storage_url, headers=headers)\n",
    "        source_storage_data = source_storage_response.json()\n",
    "\n",
    "        # Display information for source storage\n",
    "        print(f\"Organization Title: {organization_title} | Organization ID: {organization}\")\n",
    "        print(f\"Project Title: {project_info['title']} | Project ID: {project_info['id']}\")\n",
    "        print(\"Source Storage Data:\",source_storage_data)\n",
    "\n",
    "\n",
    "        # Build the API URL for export storage\n",
    "        export_storage_url = f\"https://beewant.com/api/storages/export/gcs?project={project}\"\n",
    "\n",
    "        # Make the API call for export storage\n",
    "        export_storage_response = requests.get(export_storage_url, headers=headers)\n",
    "        export_storage_data = export_storage_response.json()\n",
    "\n",
    "        # Display information for export storage\n",
    "        print(\"Export Storage Data:\",export_storage_data)\n",
    "        print(\"=\" * 30)  # Add a line to separate information for different projects\n"
   ]
  }
 ],
 "metadata": {
  "kernelspec": {
   "display_name": "Python 3",
   "language": "python",
   "name": "python3"
  },
  "language_info": {
   "codemirror_mode": {
    "name": "ipython",
    "version": 3
   },
   "file_extension": ".py",
   "mimetype": "text/x-python",
   "name": "python",
   "nbconvert_exporter": "python",
   "pygments_lexer": "ipython3",
   "version": "3.10.5"
  }
 },
 "nbformat": 4,
 "nbformat_minor": 2
}

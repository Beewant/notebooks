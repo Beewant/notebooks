{
 "cells": [
  {
   "cell_type": "markdown",
   "metadata": {},
   "source": [
    "<td>\n",
    "   <a target=\"_blank\" href=\"http://127.0.0.1:8080\" ><img src=\"https://media.licdn.com/dms/image/C4E0BAQFKjwZohF7zRA/company-logo_200_200/0/1655303818792?e=2147483647&v=beta&t=fmLrigj1HhqskB4jNk6aDb6XASTUx1SnRvMXWBPtuCY\"></a>\n",
    "</td>\n",
    "<p><B>Welcome to Beewant Platform Tutorial</B></p>"
   ]
  },
  {
   "cell_type": "markdown",
   "metadata": {},
   "source": [
    "<td>\n",
    "    <a href=\"https://www.linkedin.com/in/beewant/\" target=\"_blank\">\n",
    "        <img src=\"https://img.shields.io/badge/LinkedIn-0077B5?logo=linkedin&logoColor=white\" alt=\"LinkedIn\">\n",
    "    </a>\n",
    "</td>\n",
    "\n",
    "<td>\n",
    "    <a href=\"https://beewant.slack.com/\" target=\"_blank\">\n",
    "        <img src=\"https://img.shields.io/badge/Slack-4A154B?logo=slack&logoColor=white\" alt=\"Slack\">\n",
    "    </a>\n",
    "</td>"
   ]
  },
  {
   "cell_type": "markdown",
   "metadata": {},
   "source": [
    "<p>By leveraging the Beewant API, you can initiate an export operation to retrieve storage information, specifically tailored to the Google Cloud Storage (GCS) solution. This includes essential details such as the project ID and other relevant parameters specific to GCS. The exported information can be useful for transferring storage configurations across projects or for backup purposes.</p>\n",
    "\n",
    "<p>We will walk through the steps to make an API request to export storage information from Beewant, highlighting the importance of proper authorization using your Beewant API key. This knowledge can empower you to efficiently manage your Google Cloud Storage assets and maintain data integrity. Let's explore the code examples to understand how to interact with the Beewant API for exporting Google Cloud Storage information.</p>"
   ]
  },
  {
   "cell_type": "code",
   "execution_count": null,
   "metadata": {},
   "outputs": [],
   "source": [
    "import requests\n",
    "import json"
   ]
  },
  {
   "cell_type": "markdown",
   "metadata": {},
   "source": [
    "# API Key and Client\n",
    "Provide a valid api key below in order to properly connect to the Beewant Client."
   ]
  },
  {
   "cell_type": "code",
   "execution_count": null,
   "metadata": {},
   "outputs": [],
   "source": [
    "# To get your API key go to: Workspace settings -> Account -> Access Token\n",
    "beewant_api_key = \"\""
   ]
  },
  {
   "cell_type": "code",
   "execution_count": null,
   "metadata": {},
   "outputs": [],
   "source": [
    "# The URL to make the API request to\n",
    "url = \"https://beewant.com/api/projects\"\n",
    "\n",
    "# Replace {API_KEY} with your actual API key for authentication\n",
    "headers = {\n",
    "    'Authorization': f'Token {beewant_api_key}'\n",
    "}\n",
    "\n",
    "# Sending a GET request to the API endpoint with the headers for authentication\n",
    "response = requests.request(\"GET\", url, headers=headers)\n",
    "\n",
    "# Check the response status code to verify the request was successful\n",
    "if response.status_code == 200:\n",
    "    # If the status code is 200, the request was successful, and we can access the JSON data\n",
    "    data = response.json()\n",
    "    print(\"API response:\")\n",
    "    print(data)\n",
    "else:\n",
    "    # If the status code is not 200, there was an error in the request\n",
    "    print(f\"Error: {response.status_code} - {response.text}\")"
   ]
  },
  {
   "cell_type": "markdown",
   "metadata": {},
   "source": [
    "# Storage Export operations\n",
    "### Getting all Export storage"
   ]
  },
  {
   "cell_type": "code",
   "execution_count": null,
   "metadata": {},
   "outputs": [],
   "source": [
    "# Replace 'PROJECT_ID' with the actual project ID you want to fetch storage information for\n",
    "PROJECT_ID = \"\"\n",
    "\n",
    "# Define the API endpoint URL with the placeholder for PROJECT_ID\n",
    "url = f'https://beewant.com/api/storages/export/gcs?project={PROJECT_ID}'\n",
    "\n",
    "# Define the headers with authorization\n",
    "headers = {\n",
    "    'Authorization': f'Token {beewant_api_key}'\n",
    "}\n",
    "\n",
    "# Send a GET request to the API endpoint\n",
    "response = requests.get(url, headers=headers)\n",
    "\n",
    "# Print the response object, including status code and headers\n",
    "print(response)\n",
    "\n",
    "# Parse the JSON content from the response\n",
    "data = response.json()\n",
    "\n",
    "# Print the parsed JSON data\n",
    "print(data)"
   ]
  },
  {
   "cell_type": "markdown",
   "metadata": {},
   "source": [
    "#### Getting specific export storage"
   ]
  },
  {
   "cell_type": "code",
   "execution_count": null,
   "metadata": {},
   "outputs": [],
   "source": [
    "# Replace 'gcs_ID' with the actual storage ID you want to fetch information for.\n",
    "GCS_ID = \"\"\n",
    "\n",
    "# Define the API endpoint URL with the placeholder for gcs_ID\n",
    "url = f'https://beewant.com/api/storages/export/gcs/{GCS_ID}'\n",
    "\n",
    "# Define the headers with authorization\n",
    "headers = {\n",
    "    'Authorization': f'Token {beewant_api_key}'\n",
    "}\n",
    "\n",
    "# Send a GET request to the API endpoint\n",
    "response = requests.get(url, headers=headers)\n",
    "\n",
    "# Print the response object, including status code and headers\n",
    "print(response)\n",
    "\n",
    "# Parse the JSON content from the response\n",
    "data = response.json()\n",
    "\n",
    "# Print the parsed JSON data\n",
    "print(data)"
   ]
  },
  {
   "cell_type": "markdown",
   "metadata": {},
   "source": [
    "### Validating a storage "
   ]
  },
  {
   "cell_type": "code",
   "execution_count": null,
   "metadata": {},
   "outputs": [],
   "source": [
    "# google_application_credentials contains the credentials for the service account\n",
    "\n",
    "google_application_credentials= {\n",
    "  \"type\": \"\",\n",
    "  \"project_id\": \"\",\n",
    "  \"private_key_id\": \"\",\n",
    "  \"private_key\": \"\",\n",
    "  \"client_email\": \"\",\n",
    "  \"client_id\": \"\",\n",
    "  \"auth_uri\": \"\",\n",
    "  \"token_uri\": \"\",\n",
    "  \"auth_provider_x509_cert_url\": \"\",\n",
    "  \"client_x509_cert_url\": \"\",\n",
    "  \"universe_domain\": \"\"\n",
    "}\n",
    "\n",
    "# stringify the json\n",
    "google_application_credentials = json.dumps(google_application_credentials)"
   ]
  },
  {
   "cell_type": "code",
   "execution_count": null,
   "metadata": {},
   "outputs": [],
   "source": [
    "# Define the payload data using JSON\n",
    "payload = {\n",
    "    \"title\": \"Export Storage 1\",\n",
    "    \"description\": \"description\",\n",
    "    \"can_delete_objects\": False,\n",
    "    \"prefix\": \"\",\n",
    "    \"presign_ttl\": 1,\n",
    "    \"google_application_credentials\": google_application_credentials,\n",
    "    \"google_project_id\": \"\",\n",
    "    \"bucket\": \"\",\n",
    "    \"use_blob_urls\": True,\n",
    "    \"project\": PROJECT_ID\n",
    "}"
   ]
  },
  {
   "cell_type": "code",
   "execution_count": null,
   "metadata": {},
   "outputs": [],
   "source": [
    "# Define the API endpoint URL\n",
    "url = \"https://beewant.com/api/storages/export/gcs/validate\"\n",
    "\n",
    "# Convert the payload to JSON format\n",
    "payload_json = json.dumps(payload)\n",
    "\n",
    "# Define the headers with authorization and content type\n",
    "headers = {\n",
    "    'Authorization': f'Token {beewant_api_key}',\n",
    "    'Content-Type': 'application/json',\n",
    "}\n",
    "\n",
    "# Send a POST request to the API endpoint\n",
    "response = requests.post(url, headers=headers, data=payload_json)\n",
    "\n",
    "# Print the response object, including status code and headers\n",
    "if response.status_code == 200:\n",
    "    \n",
    "    # If the status code is 200, the request was successful, and we can access the JSON data\n",
    "    print(\"Your storage is valid\")\n",
    "else:\n",
    "    # If the status code is not 200, there was an error in the request\n",
    "    print(f\"Error: {response.status_code} - {response.text}\")"
   ]
  },
  {
   "cell_type": "markdown",
   "metadata": {},
   "source": [
    "### Creating a storage "
   ]
  },
  {
   "cell_type": "code",
   "execution_count": null,
   "metadata": {},
   "outputs": [],
   "source": [
    "# google_application_credentials contains the credentials for the service account\n",
    "\n",
    "google_application_credentials= {\n",
    "  \"type\": \"\",\n",
    "  \"project_id\": \"\",\n",
    "  \"private_key_id\": \"\",\n",
    "  \"private_key\": \"\",\n",
    "  \"client_email\": \"\",\n",
    "  \"client_id\": \"\",\n",
    "  \"auth_uri\": \"\",\n",
    "  \"token_uri\": \"\",\n",
    "  \"auth_provider_x509_cert_url\": \"\",\n",
    "  \"client_x509_cert_url\": \"\",\n",
    "  \"universe_domain\": \"\"\n",
    "}\n",
    "\n",
    "# stringify the json\n",
    "google_application_credentials = json.dumps(google_application_credentials)"
   ]
  },
  {
   "cell_type": "code",
   "execution_count": null,
   "metadata": {},
   "outputs": [],
   "source": [
    "# Replace 'PROJECT_ID' with the actual project ID you want to create a storage for\n",
    "PROJECT_ID = \"\""
   ]
  },
  {
   "cell_type": "code",
   "execution_count": null,
   "metadata": {},
   "outputs": [],
   "source": [
    "# Define the payload data using JSON\n",
    "payload = {\n",
    "    \"title\": \"Export Storage 1\",\n",
    "    \"description\": \"description\",\n",
    "    \"can_delete_objects\": False,\n",
    "    \"prefix\": \"\",\n",
    "    \"presign_ttl\": 1,\n",
    "    \"google_application_credentials\": google_application_credentials,\n",
    "    \"google_project_id\": \"\",\n",
    "    \"bucket\": \"\",\n",
    "    \"use_blob_urls\": True,\n",
    "    \"project\": PROJECT_ID\n",
    "}"
   ]
  },
  {
   "cell_type": "code",
   "execution_count": null,
   "metadata": {},
   "outputs": [],
   "source": [
    "# Define the API endpoint URL\n",
    "url = \"https://beewant.com/api/storages/export/gcs\"\n",
    "\n",
    "# Convert the payload to JSON format\n",
    "payload_json = json.dumps(payload)\n",
    "\n",
    "# Define the headers with authorization and content type\n",
    "headers = {\n",
    "    'Authorization': f'Token {beewant_api_key}',\n",
    "    'Content-Type': 'application/json'\n",
    "}\n",
    "\n",
    "# Send a POST request to the API endpoint\n",
    "response = requests.post(url, headers=headers, data=payload_json)\n",
    "\n",
    "# Print the response object, including status code and headers\n",
    "response.json()\n",
    "\n",
    "# Note: The response content is not printed in this code, but you can parse and print it if needed"
   ]
  },
  {
   "cell_type": "markdown",
   "metadata": {},
   "source": [
    "### Syncing export storage"
   ]
  },
  {
   "cell_type": "code",
   "execution_count": null,
   "metadata": {},
   "outputs": [],
   "source": [
    "# Replace 'GCS_ID' with the actual storage ID you want to synchronize\n",
    "GCS_ID = \"\""
   ]
  },
  {
   "cell_type": "code",
   "execution_count": null,
   "metadata": {},
   "outputs": [],
   "source": [
    "# Define the API endpoint URL\n",
    "url = f'https://beewant.com/api/storages/export/gcs/{GCS_ID}/sync'\n",
    "\n",
    "# Define the headers with authorization\n",
    "headers = {\n",
    "    'Authorization': f'Token {beewant_api_key}'\n",
    "}\n",
    "# Send a POST request to the API endpoint\n",
    "response = requests.post(url, headers=headers)\n",
    "\n",
    "# Print the response object, including status code and headers\n",
    "if response.status_code == 200:\n",
    "    # If the status code is 200, the request was successful, and we can access the JSON data\n",
    "    print(\"Your storage is synchronizing\")\n",
    "else:\n",
    "    # If the status code is not 200, there was an error in the request\n",
    "    print(f\"Error: {response.status_code} - {response.text}\")"
   ]
  },
  {
   "cell_type": "markdown",
   "metadata": {},
   "source": [
    "### Updating export storage"
   ]
  },
  {
   "cell_type": "code",
   "execution_count": null,
   "metadata": {},
   "outputs": [],
   "source": [
    "# Define the payload data\n",
    "payload = json.dumps({\n",
    "    \"title\": \"Export Storage 1 modified\"\n",
    "})"
   ]
  },
  {
   "cell_type": "code",
   "execution_count": null,
   "metadata": {},
   "outputs": [],
   "source": [
    "# Define the headers with authorization and content type\n",
    "headers = {\n",
    "    'Authorization': f'Token {beewant_api_key}',\n",
    "    'Content-Type': 'application/json'\n",
    "}\n",
    "\n",
    "# Define the API endpoint URL\n",
    "url = f'https://beewant.com/api/storages/export/gcs/{GCS_ID}?id={GCS_ID}'\n",
    "\n",
    "\n",
    "# Send a PATCH request to the API endpoint\n",
    "response = requests.patch(url, headers=headers, data=payload)\n",
    "\n",
    "# Print the response object, including status code and headers\n",
    "print(response)\n",
    "\n",
    "# Parse the JSON content from the response and print it\n",
    "print(response.json())"
   ]
  },
  {
   "cell_type": "markdown",
   "metadata": {},
   "source": [
    "### Deleting export storage"
   ]
  },
  {
   "cell_type": "code",
   "execution_count": null,
   "metadata": {},
   "outputs": [],
   "source": [
    "url = f'https://beewant.com/api/storages/export/gcs/{GCS_ID}'\n",
    "\n",
    "headers = {\n",
    "        'Authorization': f'Token {beewant_api_key}'\n",
    "}\n",
    "\n",
    "response = requests.request(\"DELETE\", url, headers=headers)\n",
    "\n",
    "if response.status_code == 204:\n",
    "    print(\"Storage deleted successfully\")\n",
    "else:\n",
    "        print(f\"Error: {response.status_code} - {response.text}\")"
   ]
  }
 ],
 "metadata": {
  "kernelspec": {
   "display_name": "Python 3",
   "language": "python",
   "name": "python3"
  },
  "language_info": {
   "codemirror_mode": {
    "name": "ipython",
    "version": 3
   },
   "file_extension": ".py",
   "mimetype": "text/x-python",
   "name": "python",
   "nbconvert_exporter": "python",
   "pygments_lexer": "ipython3",
   "version": "3.10.5"
  }
 },
 "nbformat": 4,
 "nbformat_minor": 2
}

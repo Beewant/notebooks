{
 "cells": [
  {
   "cell_type": "markdown",
   "metadata": {},
   "source": [
    "<td>\n",
    "   <a target=\"_blank\" href=\"https://beewant.com\" ><img src=\"https://media.licdn.com/dms/image/C4E0BAQFKjwZohF7zRA/company-logo_200_200/0/1655303818792?e=2147483647&v=beta&t=fmLrigj1HhqskB4jNk6aDb6XASTUx1SnRvMXWBPtuCY\"></a>\n",
    "</td>\n",
    "<p><B>Welcome to Beewant Platform Tutorial</B></p>"
   ]
  },
  {
   "attachments": {},
   "cell_type": "markdown",
   "metadata": {},
   "source": [
    "\n",
    "\n",
    "<td>\n",
    "    <a href=\"https://www.linkedin.com/in/beewant/\" target=\"_blank\">\n",
    "        <img src=\"https://img.shields.io/badge/LinkedIn-0077B5?logo=linkedin&logoColor=white\" alt=\"LinkedIn\">\n",
    "    </a>\n",
    "</td>\n",
    "\n",
    "<td>\n",
    "    <a href=\"https://beewant.slack.com/\" target=\"_blank\">\n",
    "        <img src=\"https://img.shields.io/badge/Slack-4A154B?logo=slack&logoColor=white\" alt=\"Slack\">\n",
    "    </a>\n",
    "</td>"
   ]
  },
  {
   "attachments": {},
   "cell_type": "markdown",
   "metadata": {},
   "source": [
    "<p>If you're seeking to maximize your efficiency in managing machine learning projects, this comprehensive tutorial is tailored for you. Delve into the world of workspaces within Beewant, where you'll discover a wealth of strategies for seamless organization, collaboration, and project management.</p>\n",
    "\n",
    "<p>This tutorial opens the doors to a realm of possibilities by offering in-depth insights into the creation, modification, and navigation of workspaces. As the heart of Beewant's dynamic environment, workspaces provide a powerful framework for categorizing tasks and fostering collaboration among team members.</p>\n",
    "\n",
    "<p>Learn how to harness the full potential of workspaces as you explore essential techniques that can elevate your workflow. Discover how to effortlessly tailor workspaces to match your project's unique requirements, effectively segment tasks, and strategically allocate resources.</p>\n",
    "\n",
    "<p>Unleash the potential of your projects by mastering the art of workspace management. Whether you're a seasoned machine learning practitioner or new to the field, this tutorial equips you with the tools you need to navigate through Beewant's workspaces with confidence and proficiency.</p>\n"
   ]
  },
  {
   "cell_type": "code",
   "execution_count": 1,
   "metadata": {},
   "outputs": [],
   "source": [
    "import requests\n",
    "import json"
   ]
  },
  {
   "attachments": {},
   "cell_type": "markdown",
   "metadata": {},
   "source": [
    "# API Key and Client\n",
    "Provide a valid api key below in order to properly connect to the Beewant Client."
   ]
  },
  {
   "cell_type": "code",
   "execution_count": null,
   "metadata": {},
   "outputs": [],
   "source": [
    "# To get your API key go to: Workspace settings -> Account -> Access Token\n",
    "beewant_api_key = \"\""
   ]
  },
  {
   "attachments": {},
   "cell_type": "markdown",
   "metadata": {},
   "source": [
    "Test your API"
   ]
  },
  {
   "cell_type": "code",
   "execution_count": null,
   "metadata": {},
   "outputs": [],
   "source": [
    "# The URL to make the API request to\n",
    "url = \"https://beewant.com/api/projects\"\n",
    "\n",
    "# Replace {API_KEY} with your actual API key for authentication\n",
    "headers = {\n",
    "    'Authorization': f'Token {beewant_api_key}'\n",
    "}\n",
    "\n",
    "# Sending a GET request to the API endpoint with the headers for authentication\n",
    "response = requests.request(\"GET\", url, headers=headers)\n",
    "\n",
    "# Check the response status code to verify the request was successful\n",
    "if response.status_code == 200:\n",
    "    # If the status code is 200, the request was successful, and we can access the JSON data\n",
    "    data = response.json()\n",
    "    print(\"API response:\")\n",
    "    print(data)\n",
    "else:\n",
    "    # If the status code is not 200, there was an error in the request\n",
    "    print(f\"Error: {response.status_code} - {response.text}\")"
   ]
  },
  {
   "attachments": {},
   "cell_type": "markdown",
   "metadata": {},
   "source": [
    "# Workspaces Management\n",
    "\n",
    "With Workspaces, you can create separate environments to group related projects, collaborate with team members, and maintain better control over your data labeling processes."
   ]
  },
  {
   "attachments": {},
   "cell_type": "markdown",
   "metadata": {},
   "source": [
    "### Listing your workspaces"
   ]
  },
  {
   "cell_type": "code",
   "execution_count": null,
   "metadata": {},
   "outputs": [],
   "source": [
    "# To get your API key go to: Workspace settings -> Account -> Access Token\n",
    "beewant_api_key = \"\""
   ]
  },
  {
   "cell_type": "code",
   "execution_count": null,
   "metadata": {},
   "outputs": [],
   "source": [
    "# Define the API endpoint URL\n",
    "url = \"https://beewant.com/api/organizations/\"\n",
    "\n",
    "# Set the API key in the headers using the 'Authorization' field\n",
    "headers = {\n",
    "    'Authorization': f'Token {beewant_api_key}',\n",
    "}\n",
    "\n",
    "# Send a GET request to the API endpoint with the provided headers\n",
    "response = requests.get(url, headers=headers)\n",
    "\n",
    "# Check if the request was successful (status code 200)\n",
    "if response.status_code == 200:\n",
    "    # Parse the response content as JSON and store it in the 'response_data' variable\n",
    "    response_data = response.json()\n",
    "\n",
    "    # Now 'response_data' contains the response data in JSON format\n",
    "    # You can further process and use this data as needed in your application\n",
    "    print(response_data)\n",
    "else:\n",
    "    # If the request was not successful, print the status code and error message\n",
    "    print(f\"Error: {response.status_code} - {response.text}\")\n"
   ]
  },
  {
   "attachments": {},
   "cell_type": "markdown",
   "metadata": {},
   "source": [
    "### Getting the workspaces settings"
   ]
  },
  {
   "cell_type": "code",
   "execution_count": null,
   "metadata": {},
   "outputs": [],
   "source": [
    "# To get your API key go to: Workspace settings -> Account -> Access Token\n",
    "beewant_api_key = \"\"\n",
    "\n",
    "# An organization ID is a distinct identifier assigned to each organization within Beewant \n",
    "org_id = ''"
   ]
  },
  {
   "cell_type": "code",
   "execution_count": null,
   "metadata": {},
   "outputs": [],
   "source": [
    "# Define the API endpoint URL with a placeholder for the ID of the organization (org_id)\n",
    "url = f'https://beewant.com/api/organizations/{org_id}'\n",
    "\n",
    "# Set the API key in the headers using the 'Authorization' field\n",
    "headers = {\n",
    "    'Authorization': f'Token {beewant_api_key}',\n",
    "}\n",
    "\n",
    "# Send a GET request to the API endpoint with the provided headers\n",
    "response = requests.get(url, headers=headers)\n",
    "\n",
    "# Check if the request was successful (status code 200)\n",
    "if response.status_code == 200:\n",
    "    # Parse the response content as JSON and store it in the 'response_data' variable\n",
    "    response_data = response.json()\n",
    "\n",
    "    # Now 'response_data' contains the response data in JSON format\n",
    "    # You can further process and use this data as needed in your application\n",
    "    print(response_data)\n",
    "else:\n",
    "    # If the request was not successful, print the status code and error message\n",
    "    print(f\"Error: {response.status_code} - {response.text}\")\n"
   ]
  },
  {
   "attachments": {},
   "cell_type": "markdown",
   "metadata": {},
   "source": [
    "### Getting the workspace members list"
   ]
  },
  {
   "cell_type": "code",
   "execution_count": null,
   "metadata": {},
   "outputs": [],
   "source": [
    "# To get your API key go to: Workspace settings -> Account -> Access Token\n",
    "beewant_api_key = \"\"\n",
    "\n",
    "# An organization ID is a distinct identifier assigned to each organization within Beewant\n",
    "org_id = \"\""
   ]
  },
  {
   "cell_type": "code",
   "execution_count": null,
   "metadata": {},
   "outputs": [],
   "source": [
    "# Define the API endpoint URL with a placeholder for the ID of the organization (org_id)\n",
    "url = f'https://beewant.com/api/organizations/{org_id}/memberships'\n",
    "\n",
    "# Set the API key in the headers using the 'Authorization' field\n",
    "headers = {\n",
    "    'Authorization': f'Token {beewant_api_key}',\n",
    "}\n",
    "\n",
    "# Send a GET request to the API endpoint with the provided headers\n",
    "response = requests.get(url, headers=headers)\n",
    "\n",
    "# Check if the request was successful (status code 200)\n",
    "if response.status_code == 200:\n",
    "    # Parse the response content as JSON and store it in the 'response_data' variable\n",
    "    response_data = response.json()\n",
    "\n",
    "    # Now 'response_data' contains the response data in JSON format\n",
    "    # You can further process and use this data as needed in your application\n",
    "    print(response_data)\n",
    "else:\n",
    "    # If the request was not successful, print the status code and error message\n",
    "    print(f\"Error: {response.status_code} - {response.text}\")"
   ]
  },
  {
   "attachments": {},
   "cell_type": "markdown",
   "metadata": {},
   "source": [
    "### Getting a workspace member settings"
   ]
  },
  {
   "cell_type": "code",
   "execution_count": null,
   "metadata": {},
   "outputs": [],
   "source": [
    "# To get your API key go to: Workspace settings -> Account -> Access Token\n",
    "beewant_api_key = \"\"\n",
    "\n",
    "# An organization ID is a distinct identifier assigned to each organization within Beewant\n",
    "org_id = \"\"\n",
    "\n",
    "# A user ID is a unique identifier associated with each user in Beewant\n",
    "user_id = \"\""
   ]
  },
  {
   "cell_type": "code",
   "execution_count": null,
   "metadata": {},
   "outputs": [],
   "source": [
    "# Define the API endpoint URL with a placeholder for the ID of the organization (org_id) and the ID of the user (user_id)\n",
    "url = f'https://beewant.com/api/organizations/{org_id}/memberships/{user_id}'\n",
    "\n",
    "\n",
    "# Set the API key in the headers using the 'Authorization' field\n",
    "headers = {\n",
    "    'Authorization': f'Token {beewant_api_key}',\n",
    "}\n",
    "\n",
    "# Send a GET request to the API endpoint with the provided headers\n",
    "response = requests.get(url, headers=headers)\n",
    "\n",
    "# Check if the request was successful (status code 200)\n",
    "if response.status_code == 200:\n",
    "    # Parse the response content as JSON and store it in the 'response_data' variable\n",
    "    response_data = response.json()\n",
    "\n",
    "    # Now 'response_data' contains the response data in JSON format\n",
    "    # You can further process and use this data as needed in your application\n",
    "    print(response_data)\n",
    "else:\n",
    "    # If the request was not successful, print the status code and error message\n",
    "    print(f\"Error: {response.status_code} - {response.text}\")\n"
   ]
  },
  {
   "attachments": {},
   "cell_type": "markdown",
   "metadata": {},
   "source": [
    "### Creating a workspace"
   ]
  },
  {
   "cell_type": "code",
   "execution_count": null,
   "metadata": {},
   "outputs": [],
   "source": [
    "# To get your API key go to: Workspace settings -> Account -> Access Token\n",
    "beewant_api_key = \"\"\n",
    "\n",
    "# Create the payload data as a dictionary\n",
    "payload = {\n",
    "    \"title\": \"\",\n",
    "    \"token\": \"\"\n",
    "}"
   ]
  },
  {
   "cell_type": "code",
   "execution_count": null,
   "metadata": {},
   "outputs": [],
   "source": [
    "# Define the API endpoint URL\n",
    "url = \"https://beewant.com/api/organizations/\"\n",
    "\n",
    "\n",
    "# Convert the payload dictionary to a JSON string\n",
    "payload_json = json.dumps(payload)\n",
    "\n",
    "# Set the headers with the API key and 'Content-Type' as 'application/json'\n",
    "headers = {\n",
    "    'Authorization': f'Token {beewant_api_key}',\n",
    "    'Content-Type': 'application/json',\n",
    "}\n",
    "\n",
    "# Send a POST request to the API endpoint with the provided headers and payload\n",
    "response = requests.post(url, headers=headers, data=payload_json)\n",
    "\n",
    "# Check if the request was successful (status code 200)\n",
    "if response.status_code == 200:\n",
    "    # Parse the response content as JSON and store it in the 'response_data' variable\n",
    "    response_data = response.json()\n",
    "\n",
    "    # Now 'response_data' contains the response data in JSON format\n",
    "    # You can further process and use this data as needed in your application\n",
    "    print(response_data)\n",
    "else:\n",
    "    # If the request was not successful, print the status code and error message\n",
    "    print(f\"Error: {response.status_code} - {response.text}\")\n"
   ]
  },
  {
   "attachments": {},
   "cell_type": "markdown",
   "metadata": {},
   "source": [
    "### Updating workspace settings"
   ]
  },
  {
   "cell_type": "code",
   "execution_count": null,
   "metadata": {},
   "outputs": [],
   "source": [
    "# To get your API key go to: Workspace settings -> Account -> Access Token\n",
    "beewant_api_key = \"\"\n",
    "\n",
    "# An organization ID is a distinct identifier assigned to each organization within Beewant\n",
    "org_id = \"\"\n",
    "\n",
    "# Create the payload data as a dictionary\n",
    "payload = {\n",
    "    \"title\": \"\",\n",
    "    \"token\": \"\"\n",
    "}"
   ]
  },
  {
   "cell_type": "code",
   "execution_count": null,
   "metadata": {},
   "outputs": [],
   "source": [
    "# Define the API endpoint URL with a placeholder for the ID of the organization (org_id) \n",
    "url = f'https://beewant.com/api/organizations/{org_id}'\n",
    "\n",
    "\n",
    "# Convert the payload dictionary to a JSON string\n",
    "payload_json = json.dumps(payload)\n",
    "\n",
    "# Set the headers with the API key and 'Content-Type' as 'application/json'\n",
    "headers = {\n",
    "    'Authorization': f'Token {beewant_api_key}',\n",
    "    'Content-Type': 'application/json',\n",
    "}\n",
    "\n",
    "# Send a PATCH request to the API endpoint with the provided headers and payload\n",
    "response = requests.patch(url, headers=headers, data=payload_json)\n",
    "\n",
    "# Check if the request was successful (status code 200)\n",
    "if response.status_code == 200:\n",
    "    # Parse the response content as JSON and store it in the 'response_data' variable\n",
    "    response_data = response.json()\n",
    "\n",
    "    # Now 'response_data' contains the response data in JSON format\n",
    "    # You can further process and use this data as needed in your application\n",
    "    print(response_data)\n",
    "else:\n",
    "    # If the request was not successful, print the status code and error message\n",
    "    print(f\"Error: {response.status_code} - {response.text}\")\n"
   ]
  },
  {
   "attachments": {},
   "cell_type": "markdown",
   "metadata": {},
   "source": [
    "### Updating workspace member settings"
   ]
  },
  {
   "cell_type": "code",
   "execution_count": null,
   "metadata": {},
   "outputs": [],
   "source": [
    "# To get your API key go to: Workspace settings -> Account -> Access Token\n",
    "beewant_api_key = \"\"\n",
    "\n",
    "# An organization ID is a distinct identifier assigned to each organization within Beewant\n",
    "org_id = \"\"\n",
    "\n",
    "# A user ID is a unique identifier associated with each user in Beewant\n",
    "user_id = \"\"\n",
    "\n",
    "# Create the payload data as a dictionary\n",
    "payload = {\n",
    "    \"organization\":1 ,\n",
    "    \"user\": {\n",
    "        \"first_name\": \"\",\n",
    "        \"last_name\": \"\",\n",
    "        \"phone\": \"\",\n",
    "        \"active_organization\": 1 \n",
    "    }\n",
    "}"
   ]
  },
  {
   "cell_type": "code",
   "execution_count": null,
   "metadata": {},
   "outputs": [],
   "source": [
    "# Define the API endpoint URL with a placeholder for the ID of the organization (org_id) and the ID of the user (user_id)\n",
    "url = f'https://beewant.com/api/organizations/{org_id}/memberships/{user_id}'\n",
    "\n",
    "\n",
    "# Convert the payload dictionary to a JSON string\n",
    "payload_json = json.dumps(payload)\n",
    "\n",
    "# Set the headers with the API key and 'Content-Type' as 'application/json'\n",
    "headers = {\n",
    "    'Authorization': f'Token {beewant_api_key}',\n",
    "    'Content-Type': 'application/json',\n",
    "}\n",
    "\n",
    "# Send a PATCH request to the API endpoint with the provided headers and payload\n",
    "response = requests.patch(url, headers=headers, data=payload_json)\n",
    "\n",
    "# Check if the request was successful (status code 200)\n",
    "if response.status_code == 200:\n",
    "    # Parse the response content as JSON and store it in the 'response_data' variable\n",
    "    response_data = response.json()\n",
    "\n",
    "    # Now 'response_data' contains the response data in JSON format\n",
    "    # You can further process and use this data as needed in your application\n",
    "    print(response_data)\n",
    "else:\n",
    "    # If the request was not successful, print the status code and error message\n",
    "    print(f\"Error: {response.status_code} - {response.text}\")\n"
   ]
  },
  {
   "attachments": {},
   "cell_type": "markdown",
   "metadata": {},
   "source": [
    "### Deleting a workspace"
   ]
  },
  {
   "cell_type": "code",
   "execution_count": null,
   "metadata": {},
   "outputs": [],
   "source": [
    "# To get your API key go to: Workspace settings -> Account -> Access Token\n",
    "beewant_api_key = \"\"\n",
    "\n",
    "# An organization ID is a distinct identifier assigned to each organization within Beewant\n",
    "org_id = \"\""
   ]
  },
  {
   "cell_type": "code",
   "execution_count": null,
   "metadata": {},
   "outputs": [],
   "source": [
    "# Define the API endpoint URL with a placeholder for the ID of the organization (org_id)\n",
    "url = f'https://beewant.com/api/organizations/{org_id}'\n",
    "\n",
    "# Set the headers with the API key\n",
    "headers = {\n",
    "    'Authorization': f'Token {beewant_api_key}',\n",
    "}\n",
    "\n",
    "# Send a DELETE request to the API endpoint with the provided headers\n",
    "response = requests.delete(url, headers=headers)\n",
    "\n",
    "# Check if the request was successful (status code 204 - No Content indicates successful deletion)\n",
    "if response.status_code == 204:\n",
    "    print(\"Organization deleted successfully.\")\n",
    "else:\n",
    "    # If the request was not successful, print the status code and error message\n",
    "    print(f\"Error: {response.status_code} - {response.text}\")\n"
   ]
  },
  {
   "attachments": {},
   "cell_type": "markdown",
   "metadata": {},
   "source": [
    "### Deleting a workspace member"
   ]
  },
  {
   "cell_type": "code",
   "execution_count": null,
   "metadata": {},
   "outputs": [],
   "source": [
    "# To get your API key go to: Workspace settings -> Account -> Access Token\n",
    "beewant_api_key = \"\"\n",
    "\n",
    "# An organization ID is a distinct identifier assigned to each organization within Beewant\n",
    "org_id = \"\"\n",
    "\n",
    "# A user ID is a unique identifier associated with each user in Beewant\n",
    "user_id = \"\""
   ]
  },
  {
   "cell_type": "code",
   "execution_count": null,
   "metadata": {},
   "outputs": [],
   "source": [
    "\n",
    "# Define the API endpoint URL with a placeholder for the ID of the organization (org_id) and the ID of the user (user_id)\n",
    "url = f'https://beewant.com/api/organizations/{org_id}/memberships/{user_id}'\n",
    "\n",
    "# Set the headers with the API key\n",
    "headers = {\n",
    "    'Authorization': f'Token {beewant_api_key}',\n",
    "}\n",
    "\n",
    "# Send a DELETE request to the API endpoint with the provided headers\n",
    "response = requests.delete(url, headers=headers)\n",
    "\n",
    "# Check if the request was successful (status code 204 - No Content indicates successful deletion)\n",
    "if response.status_code == 204:\n",
    "    print(\"Membership deleted successfully.\")\n",
    "else:\n",
    "    # If the request was not successful, print the status code and error message\n",
    "    print(f\"Error: {response.status_code} - {response.text}\")\n"
   ]
  }
 ],
 "metadata": {
  "kernelspec": {
   "display_name": "Python 3",
   "language": "python",
   "name": "python3"
  },
  "language_info": {
   "codemirror_mode": {
    "name": "ipython",
    "version": 3
   },
   "file_extension": ".py",
   "mimetype": "text/x-python",
   "name": "python",
   "nbconvert_exporter": "python",
   "pygments_lexer": "ipython3",
   "version": "3.10.0"
  },
  "orig_nbformat": 4
 },
 "nbformat": 4,
 "nbformat_minor": 2
}

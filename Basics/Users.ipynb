{
 "cells": [
  {
   "cell_type": "markdown",
   "metadata": {},
   "source": [
    "<td>\n",
    "   <a target=\"_blank\" href=\"https://beewant.com\" ><img src=\"https://media.licdn.com/dms/image/C4E0BAQFKjwZohF7zRA/company-logo_200_200/0/1655303818792?e=2147483647&v=beta&t=fmLrigj1HhqskB4jNk6aDb6XASTUx1SnRvMXWBPtuCY\"></a>\n",
    "</td>\n",
    "<p><B>Welcome to Beewant Platform Tutorial</B></p>"
   ]
  },
  {
   "attachments": {},
   "cell_type": "markdown",
   "metadata": {},
   "source": [
    "\n",
    "<td>\n",
    "    <a href=\"https://www.linkedin.com/in/beewant/\" target=\"_blank\">\n",
    "        <img src=\"https://img.shields.io/badge/LinkedIn-0077B5?logo=linkedin&logoColor=white\" alt=\"LinkedIn\">\n",
    "    </a>\n",
    "</td>\n",
    "\n",
    "<td>\n",
    "    <a href=\"https://beewant.slack.com/\" target=\"_blank\">\n",
    "        <img src=\"https://img.shields.io/badge/Slack-4A154B?logo=slack&logoColor=white\" alt=\"Slack\">\n",
    "    </a>\n",
    "</td>"
   ]
  },
  {
   "attachments": {},
   "cell_type": "markdown",
   "metadata": {},
   "source": [
    "<p>In the Beewant platform, managing users is a pivotal aspect of creating a collaborative and streamlined annotation process. User management not only ensures secure access to your projects but also empowers you to assign roles, distribute responsibilities, and maintain a structured workflow. Let's delve into the significance of user management within Beewant:</p>\n",
    "\n",
    "<ul>\n",
    "    <li>\n",
    "        <span class=\"fw-bold\" style=\"color: #007bff;\">Efficient Collaboration:</span> Beewant's user management capabilities allow you to invite team members to your projects. This collaborative approach enhances the collective effort by enabling multiple stakeholders to contribute to annotation, data labeling, and project management. Users can be assigned roles such as annotators, reviewers, or project managers, ensuring each team member contributes effectively to the project's success.\n",
    "    </li>\n",
    "    <li>\n",
    "        <span class=\"fw-bold\" style=\"color: #007bff;\">Enhanced Access Control:</span> With Beewant's user management, you have granular control over who can access your projects. This feature ensures that only authorized individuals can participate in specific tasks, reducing the risk of unauthorized access and maintaining data privacy.\n",
    "    </li>\n",
    "    <li>\n",
    "        <span class=\"fw-bold\" style=\"color: #007bff;\">Streamlined Workflow:</span> By incorporating user management, Beewant contributes to a seamless workflow. Users can log in, access their assigned tasks, perform annotations, and collaborate within the platform, all while adhering to the defined roles and permissions.\n",
    "    </li>\n",
    "</ul>\n",
    "\n",
    "<p>Whether you're working on a small-scale annotation project or a large-scale AI model training endeavor, Beewant's user management ensures that your team operates cohesively, maintaining efficiency and data accuracy throughout the process. With its user-friendly interface and robust feature set, Beewant transforms user management into a strategic advantage for your projects.</p>\n"
   ]
  },
  {
   "cell_type": "code",
   "execution_count": 1,
   "metadata": {},
   "outputs": [],
   "source": [
    "import requests\n",
    "import json"
   ]
  },
  {
   "attachments": {},
   "cell_type": "markdown",
   "metadata": {},
   "source": [
    "# API Key and Client\n",
    "Provide a valid api key below in order to properly connect to the Beewant Client."
   ]
  },
  {
   "cell_type": "code",
   "execution_count": null,
   "metadata": {},
   "outputs": [],
   "source": [
    "# To get your API key go to: Workspace settings -> Account -> Access Token\n",
    "beewant_api_key = \"\""
   ]
  },
  {
   "attachments": {},
   "cell_type": "markdown",
   "metadata": {},
   "source": [
    "Test your API"
   ]
  },
  {
   "cell_type": "code",
   "execution_count": null,
   "metadata": {},
   "outputs": [],
   "source": [
    "# The URL to make the API request to\n",
    "url = \"https://beewant.com/api/projects\"\n",
    "\n",
    "# Replace {API_KEY} with your actual API key for authentication\n",
    "headers = {\n",
    "    'Authorization': f'Token {beewant_api_key}'\n",
    "}\n",
    "\n",
    "# Sending a GET request to the API endpoint with the headers for authentication\n",
    "response = requests.request(\"GET\", url, headers=headers, data=payload)\n",
    "\n",
    "# Check the response status code to verify the request was successful\n",
    "if response.status_code == 200:\n",
    "    # If the status code is 200, the request was successful, and we can access the JSON data\n",
    "    data = response.json()\n",
    "    print(\"API response:\")\n",
    "    print(data)\n",
    "else:\n",
    "    # If the status code is not 200, there was an error in the request\n",
    "    print(f\"Error: {response.status_code} - {response.text}\")"
   ]
  },
  {
   "attachments": {},
   "cell_type": "markdown",
   "metadata": {},
   "source": [
    "# Users"
   ]
  },
  {
   "attachments": {},
   "cell_type": "markdown",
   "metadata": {},
   "source": [
    "### Getting my token"
   ]
  },
  {
   "cell_type": "code",
   "execution_count": null,
   "metadata": {},
   "outputs": [],
   "source": [
    "# To get your API key go to: Workspace settings -> Account -> Access Token\n",
    "beewant_api_key = \"\""
   ]
  },
  {
   "cell_type": "code",
   "execution_count": null,
   "metadata": {},
   "outputs": [],
   "source": [
    "# Define the API endpoint URL for retrieving the current user's token\n",
    "url = \"https://beewant.com/api/current-user/token\"\n",
    "\n",
    "# Set the headers with the API key\n",
    "headers = {\n",
    "    'Authorization': f'Token {beewant_api_key}',\n",
    "}\n",
    "\n",
    "# Send a GET request to the API endpoint with the provided headers\n",
    "response = requests.get(url, headers=headers)\n",
    "\n",
    "# Check if the request was successful (status code 200 - OK)\n",
    "if response.status_code == 200:\n",
    "    # Print the response content, which contains the user's token\n",
    "    print(\"User Token:\", response.json()['token'])\n",
    "else:\n",
    "    # If the request was not successful, print the status code and error message\n",
    "    print(f\"Error: {response.status_code} - {response.text}\")\n"
   ]
  },
  {
   "attachments": {},
   "cell_type": "markdown",
   "metadata": {},
   "source": [
    "### Getting current user infos"
   ]
  },
  {
   "cell_type": "code",
   "execution_count": null,
   "metadata": {},
   "outputs": [],
   "source": [
    "# To get your API key go to: Workspace settings -> Account -> Access Token\n",
    "beewant_api_key = \"\""
   ]
  },
  {
   "cell_type": "code",
   "execution_count": null,
   "metadata": {},
   "outputs": [],
   "source": [
    "# Define the API endpoint URL for retrieving the current user's information\n",
    "url = \"https://beewant.com/api/current-user/whoami\"\n",
    "\n",
    "# Set the headers with the API key\n",
    "headers = {\n",
    "    'Authorization': f'Token {beewant_api_key}',\n",
    "}\n",
    "\n",
    "# Send a GET request to the API endpoint with the provided headers\n",
    "response = requests.get(url, headers=headers)\n",
    "\n",
    "# Check if the request was successful (status code 200 - OK)\n",
    "if response.status_code == 200:\n",
    "    # Print the response content, which contains the current user's information\n",
    "    print(\"Current User Info:\", response.json())\n",
    "else:\n",
    "    # If the request was not successful, print the status code and error message\n",
    "    print(f\"Error: {response.status_code} - {response.text}\")\n"
   ]
  },
  {
   "attachments": {},
   "cell_type": "markdown",
   "metadata": {},
   "source": [
    "### Listing users"
   ]
  },
  {
   "cell_type": "code",
   "execution_count": null,
   "metadata": {},
   "outputs": [],
   "source": [
    "# To get your API key go to: Workspace settings -> Account -> Access Token\n",
    "beewant_api_key = \"\""
   ]
  },
  {
   "cell_type": "code",
   "execution_count": null,
   "metadata": {},
   "outputs": [],
   "source": [
    "# Define the API endpoint URL for retrieving the list of users\n",
    "url = \"https://beewant.com/api/users/\"\n",
    "\n",
    "# Set the headers with the API key\n",
    "headers = {\n",
    "    'Authorization': f'Token {beewant_api_key}',\n",
    "}\n",
    "\n",
    "# Send a GET request to the API endpoint with the provided headers\n",
    "response = requests.get(url, headers=headers)\n",
    "\n",
    "# Check if the request was successful (status code 200 - OK)\n",
    "if response.status_code == 200:\n",
    "    # Print the response content, which contains the list of users\n",
    "    print(\"List of Users:\", response.json())\n",
    "else:\n",
    "    # If the request was not successful, print the status code and error message\n",
    "    print(f\"Error: {response.status_code} - {response.text}\")\n"
   ]
  },
  {
   "attachments": {},
   "cell_type": "markdown",
   "metadata": {},
   "source": [
    "### Getting a user info"
   ]
  },
  {
   "cell_type": "code",
   "execution_count": null,
   "metadata": {},
   "outputs": [],
   "source": [
    "# To get your API key go to: Workspace settings -> Account -> Access Token\n",
    "beewant_api_key = \"\"\n",
    "\n",
    "# A user ID is a unique identifier associated with each user in Beewant\n",
    "user_id = \"\""
   ]
  },
  {
   "cell_type": "code",
   "execution_count": null,
   "metadata": {},
   "outputs": [],
   "source": [
    "# Define the API endpoint URL for retrieving user details by user_id\n",
    "url = f'https://beewant.com/api/users/{user_id}/'\n",
    "\n",
    "# Set the headers with the API key\n",
    "headers = {\n",
    "    'Authorization': f'Token {beewant_api_key}',\n",
    "}\n",
    "\n",
    "# Send a GET request to the API endpoint with the provided headers\n",
    "response = requests.get(url, headers=headers)\n",
    "\n",
    "# Check if the request was successful (status code 200 - OK)\n",
    "if response.status_code == 200:\n",
    "    # Print the response content, which contains the user details\n",
    "    print(\"User Details:\", response.json())\n",
    "else:\n",
    "    # If the request was not successful, print the status code and error message\n",
    "    print(f\"Error: {response.status_code} - {response.text}\")"
   ]
  },
  {
   "attachments": {},
   "cell_type": "markdown",
   "metadata": {},
   "source": [
    "### Reseting user token"
   ]
  },
  {
   "cell_type": "code",
   "execution_count": null,
   "metadata": {},
   "outputs": [],
   "source": [
    "# To get your API key go to: Workspace settings -> Account -> Access Token\n",
    "beewant_api_key = \"\""
   ]
  },
  {
   "cell_type": "code",
   "execution_count": null,
   "metadata": {},
   "outputs": [],
   "source": [
    "# Define the API endpoint URL for resetting the current user's token\n",
    "url = \"https://beewant.com/api/current-user/reset-token/\"\n",
    "\n",
    "# Set the headers with the API key\n",
    "headers = {\n",
    "    'Authorization': f'Token {beewant_api_key}',\n",
    "    'Content-Type': 'application/json',  # Specify the content type as JSON for POST request\n",
    "}\n",
    "\n",
    "# Send a POST request to the API endpoint with the provided headers and empty payload\n",
    "response = requests.post(url, headers=headers, json={})\n",
    "\n",
    "# Check if the request was successful (status code 200 - OK)\n",
    "if response.status_code == 200:\n",
    "    # Print the response content, which contains the new token details\n",
    "    print(\"New Token Details:\", response.json())\n",
    "else:\n",
    "    # If the request was not successful, print the status code and error message\n",
    "    print(f\"Error: {response.status_code} - {response.text}\")"
   ]
  },
  {
   "attachments": {},
   "cell_type": "markdown",
   "metadata": {},
   "source": [
    "### Creating new user"
   ]
  },
  {
   "cell_type": "code",
   "execution_count": null,
   "metadata": {},
   "outputs": [],
   "source": [
    "# To get your API key go to: Workspace settings -> Account -> Access Token\n",
    "beewant_api_key = \"\"\n",
    "\n",
    "# Create a dictionary with the user details\n",
    "user_data = {\n",
    "    \"first_name\": \"\",\n",
    "    \"last_name\": \"\",\n",
    "    \"username\": \"\",\n",
    "    \"email\": \"\",\n",
    "    \"phone\": \"\",\n",
    "    \"active_organization\": 1\n",
    "}\n",
    "\n",
    "# Convert the user data dictionary to JSON format\n",
    "payload = json.dumps(user_data)\n"
   ]
  },
  {
   "cell_type": "code",
   "execution_count": null,
   "metadata": {},
   "outputs": [],
   "source": [
    "# Define the API endpoint URL for creating a new user\n",
    "url = \"https://beewant.com/api/users/\"\n",
    "\n",
    "# Set the headers with the API key and content type as JSON\n",
    "headers = {\n",
    "    'Authorization': f'Token {beewant_api_key}',\n",
    "    'Content-Type': 'application/json',\n",
    "}\n",
    "\n",
    "# Send a POST request to the API endpoint with the provided headers and payload\n",
    "response = requests.post(url, headers=headers, data=payload)\n",
    "\n",
    "# Check if the request was successful (status code 200 - OK)\n",
    "if response.status_code == 200:\n",
    "    # Print the response content, which contains the details of the new user\n",
    "    print(\"New User Details:\", response.json())\n",
    "else:\n",
    "    # If the request was not successful, print the status code and error message\n",
    "    print(f\"Error: {response.status_code} - {response.text}\")"
   ]
  },
  {
   "attachments": {},
   "cell_type": "markdown",
   "metadata": {},
   "source": [
    "### Updating user details"
   ]
  },
  {
   "cell_type": "code",
   "execution_count": null,
   "metadata": {},
   "outputs": [],
   "source": [
    "# To get your API key go to: Workspace settings -> Account -> Access Token\n",
    "beewant_api_key = \"\"\n",
    "\n",
    "# A user ID is a unique identifier associated with each user in Beewant\n",
    "user_id = \"\"\n",
    "\n",
    "# Create a dictionary with the updated user details\n",
    "user_data = {\n",
    "    \"first_name\": \"\",\n",
    "    \"last_name\": \"\",\n",
    "    \"username\": \"\",\n",
    "    \"email\": \"\",\n",
    "    \"last_activity\": \"\",\n",
    "    \"initials\": \"te\",\n",
    "    \"phone\": \"\",\n",
    "    \"active_organization\": 1\n",
    "}\n",
    "\n",
    "# Convert the user data dictionary to JSON format\n",
    "payload = json.dumps(user_data)"
   ]
  },
  {
   "cell_type": "code",
   "execution_count": null,
   "metadata": {},
   "outputs": [],
   "source": [
    "# Define the API endpoint URL for updating a user's details\n",
    "url = f'https://beewant.com/api/users/{user_id}/'\n",
    "\n",
    "# Set the headers with the API key and content type as JSON\n",
    "headers = {\n",
    "    'Authorization': f'Token {beewant_api_key}',\n",
    "    'Content-Type': 'application/json',\n",
    "}\n",
    "\n",
    "# Send a PATCH request to the API endpoint with the provided headers and payload\n",
    "response = requests.patch(url, headers=headers, data=payload)\n",
    "\n",
    "# Check if the request was successful (status code 200 - OK)\n",
    "if response.status_code == 200:\n",
    "    # Print the response content, which contains the updated details of the user\n",
    "    print(\"Updated User Details:\", response.json())\n",
    "else:\n",
    "    # If the request was not successful, print the status code and error message\n",
    "    print(f\"Error: {response.status_code} - {response.text}\")"
   ]
  },
  {
   "attachments": {},
   "cell_type": "markdown",
   "metadata": {},
   "source": [
    "### Deleting a user"
   ]
  },
  {
   "cell_type": "code",
   "execution_count": null,
   "metadata": {},
   "outputs": [],
   "source": [
    "# To get your API key go to: Workspace settings -> Account -> Access Token\n",
    "beewant_api_key = \"\"\n",
    "\n",
    "# A user ID is a unique identifier associated with each user in Beewant\n",
    "user_id = \"\""
   ]
  },
  {
   "cell_type": "code",
   "execution_count": null,
   "metadata": {},
   "outputs": [],
   "source": [
    "# Define the API endpoint URL for deleting a user\n",
    "url = f'https://beewant.com/api/users/{user_id}'\n",
    "\n",
    "# Set the headers with the API key\n",
    "headers = {\n",
    "    'Authorization': f'Token {beewant_api_key}',\n",
    "}\n",
    "\n",
    "# Send a DELETE request to the API endpoint with the provided headers and no payload\n",
    "response = requests.delete(url, headers=headers)\n",
    "\n",
    "# Check if the request was successful (status code 204 - No Content)\n",
    "if response.status_code == 204:\n",
    "    print(\"User deleted successfully.\")\n",
    "else:\n",
    "    # If the request was not successful, print the status code and error message\n",
    "    print(f\"Error: {response.status_code} - {response.text}\")"
   ]
  }
 ],
 "metadata": {
  "kernelspec": {
   "display_name": "Python 3",
   "language": "python",
   "name": "python3"
  },
  "language_info": {
   "codemirror_mode": {
    "name": "ipython",
    "version": 3
   },
   "file_extension": ".py",
   "mimetype": "text/x-python",
   "name": "python",
   "nbconvert_exporter": "python",
   "pygments_lexer": "ipython3",
   "version": "3.10.0"
  },
  "orig_nbformat": 4
 },
 "nbformat": 4,
 "nbformat_minor": 2
}

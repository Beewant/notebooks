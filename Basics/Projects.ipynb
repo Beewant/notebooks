{
 "cells": [
  {
   "attachments": {},
   "cell_type": "markdown",
   "metadata": {},
   "source": [
    "<td>\n",
    "   <a target=\"_blank\" href=\"https://beewant.com\" ><img src=\"https://media.licdn.com/dms/image/C4E0BAQFKjwZohF7zRA/company-logo_200_200/0/1655303818792?e=2147483647&v=beta&t=fmLrigj1HhqskB4jNk6aDb6XASTUx1SnRvMXWBPtuCY\"></a>\n",
    "</td>\n",
    "<p><B>Welcome to Beewant Platform Tutorial</B></p>"
   ]
  },
  {
   "attachments": {},
   "cell_type": "markdown",
   "metadata": {},
   "source": [
    "<td>\n",
    "    <a href=\"https://www.linkedin.com/in/beewant/\" target=\"_blank\">\n",
    "        <img src=\"https://img.shields.io/badge/LinkedIn-0077B5?logo=linkedin&logoColor=white\" alt=\"LinkedIn\">\n",
    "    </a>\n",
    "</td>\n",
    "\n",
    "<td>\n",
    "    <a href=\"https://beewant.slack.com/\" target=\"_blank\">\n",
    "        <img src=\"https://img.shields.io/badge/Slack-4A154B?logo=slack&logoColor=white\" alt=\"Slack\">\n",
    "    </a>\n",
    "</td>"
   ]
  },
  {
   "attachments": {},
   "cell_type": "markdown",
   "metadata": {},
   "source": [
    "<p>Whether you're a seasoned professional or just starting out, this tutorial offers a step-by-step walkthrough that demystifies project management within Beewant. Discover how to seamlessly initiate projects, personalize them to align with your goals, and effectively allocate resources to ensure smooth progress and achievement.</p>\n",
    "\n",
    "<p>Immerse yourself in the world of project management excellence with Beewant's guidance. By the time you complete this tutorial, you'll be equipped with the confidence and expertise to navigate and optimize your projects like never before.</p>\n"
   ]
  },
  {
   "cell_type": "code",
   "execution_count": null,
   "metadata": {},
   "outputs": [],
   "source": [
    "import requests\n",
    "import json"
   ]
  },
  {
   "attachments": {},
   "cell_type": "markdown",
   "metadata": {},
   "source": [
    "# API Key and Client\n",
    "Provide a valid api key below in order to properly connect to the Beewant Client."
   ]
  },
  {
   "cell_type": "code",
   "execution_count": null,
   "metadata": {},
   "outputs": [],
   "source": [
    "# To get your API key go to: Workspace settings -> Account -> Access Token\n",
    "beewant_api_key = \"\""
   ]
  },
  {
   "attachments": {},
   "cell_type": "markdown",
   "metadata": {},
   "source": [
    "Test your API"
   ]
  },
  {
   "cell_type": "code",
   "execution_count": null,
   "metadata": {},
   "outputs": [],
   "source": [
    "# The URL to make the API request to\n",
    "url = \"https://beewant.com/api/projects\"\n",
    "\n",
    "# Replace {API_KEY} with your actual API key for authentication\n",
    "headers = {\n",
    "    'Authorization': f'Token {beewant_api_key}'\n",
    "}\n",
    "\n",
    "# Sending a GET request to the API endpoint with the headers for authentication\n",
    "response = requests.request(\"GET\", url, headers=headers)\n",
    "\n",
    "# Check the response status code to verify the request was successful\n",
    "if response.status_code == 200:\n",
    "    # If the status code is 200, the request was successful, and we can access the JSON data\n",
    "    data = response.json()\n",
    "    print(\"API response:\")\n",
    "    print(data)\n",
    "else:\n",
    "    # If the status code is not 200, there was an error in the request\n",
    "    print(f\"Error: {response.status_code} - {response.text}\")"
   ]
  },
  {
   "attachments": {},
   "cell_type": "markdown",
   "metadata": {},
   "source": [
    "# Projects"
   ]
  },
  {
   "attachments": {},
   "cell_type": "markdown",
   "metadata": {},
   "source": [
    "\n",
    "### Listing your projects"
   ]
  },
  {
   "cell_type": "code",
   "execution_count": null,
   "metadata": {},
   "outputs": [],
   "source": [
    "# To get your API key go to: Workspace settings -> Account -> Access Token\n",
    "beewant_api_key = \"\""
   ]
  },
  {
   "cell_type": "code",
   "execution_count": null,
   "metadata": {},
   "outputs": [],
   "source": [
    "\n",
    "# Define the API endpoint URL for fetching projects\n",
    "url = \"https://beewant.com/api/projects/\"\n",
    "\n",
    "# Set the headers with the API key\n",
    "headers = {\n",
    "    'Authorization': f'Token {beewant_api_key}',\n",
    "}\n",
    "\n",
    "# Send a GET request to the API endpoint with the provided headers and no payload\n",
    "response = requests.get(url, headers=headers)\n",
    "\n",
    "# Check if the request was successful (status code 200 - OK)\n",
    "if response.status_code == 200:\n",
    "    # Parse the JSON response and store it in the 'data' variable\n",
    "    data = response.json()\n",
    "    # Print the data (the list of projects)\n",
    "    print(data)\n",
    "else:\n",
    "    # If the request was not successful, print the status code and error message\n",
    "    print(f\"Error: {response.status_code} - {response.text}\")"
   ]
  },
  {
   "attachments": {},
   "cell_type": "markdown",
   "metadata": {},
   "source": [
    "### Getting a project by ID"
   ]
  },
  {
   "cell_type": "code",
   "execution_count": null,
   "metadata": {},
   "outputs": [],
   "source": [
    "# To get your API key go to: Workspace settings -> Account -> Access Token\n",
    "beewant_api_key = \"\"\n",
    "\n",
    "# A project ID is a unique identifier assigned to each project in Beewant\n",
    "project_id = \"\""
   ]
  },
  {
   "cell_type": "code",
   "execution_count": null,
   "metadata": {},
   "outputs": [],
   "source": [
    "\n",
    "# Define the API endpoint URL for fetching a specific project\n",
    "url = f'https://beewant.com/api/projects/{project_id}/tasks/'\n",
    "\n",
    "# Set the headers with the API key\n",
    "headers = {\n",
    "    'Authorization': f'Token {beewant_api_key}',\n",
    "}\n",
    "\n",
    "# Send a GET request to the API endpoint with the provided headers and no payload\n",
    "response = requests.get(url, headers=headers)\n",
    "\n",
    "# Check if the request was successful (status code 200 - OK)\n",
    "if response.status_code == 200:\n",
    "    # Parse the JSON response and store it in the 'data' variable\n",
    "    data = response.json()\n",
    "    # Print the data (the project details)\n",
    "    print(data)\n",
    "else:\n",
    "    # If the request was not successful, print the status code and error message\n",
    "    print(f\"Error: {response.status_code} - {response.text}\")"
   ]
  },
  {
   "attachments": {},
   "cell_type": "markdown",
   "metadata": {},
   "source": [
    "### Getting project tasks list"
   ]
  },
  {
   "cell_type": "code",
   "execution_count": null,
   "metadata": {},
   "outputs": [],
   "source": [
    "# To get your API key go to: Workspace settings -> Account -> Access Token\n",
    "beewant_api_key = \"\"\n",
    "\n",
    "# A project ID is a unique identifier assigned to each project in Beewant\n",
    "project_id = \"\""
   ]
  },
  {
   "cell_type": "code",
   "execution_count": null,
   "metadata": {},
   "outputs": [],
   "source": [
    "# Define the API endpoint URL for fetching tasks of a specific project\n",
    "url = f'https://beewant.com/api/projects/{project_id}/tasks/'\n",
    "\n",
    "# Set the headers with the API key\n",
    "headers = {\n",
    "    'Authorization': f'Token {beewant_api_key}',\n",
    "}\n",
    "\n",
    "# Send a GET request to the API endpoint with the provided headers and no payload\n",
    "response = requests.get(url, headers=headers)\n",
    "\n",
    "# Check if the request was successful (status code 200 - OK)\n",
    "if response.status_code == 200:\n",
    "    # Parse the JSON response and store it in the 'data' variable\n",
    "    data = response.json()\n",
    "    # Print the data (the tasks of the specific project)\n",
    "    print(data)\n",
    "else:\n",
    "    # If the request was not successful, print the status code and error message\n",
    "    print(f\"Error: {response.status_code} - {response.text}\")"
   ]
  },
  {
   "attachments": {},
   "cell_type": "markdown",
   "metadata": {},
   "source": [
    "### Creating new project"
   ]
  },
  {
   "cell_type": "code",
   "execution_count": null,
   "metadata": {},
   "outputs": [],
   "source": [
    "# To get your API key go to: Workspace settings -> Account -> Access Token\n",
    "beewant_api_key = \"\"\n",
    "\n",
    "# Define the payload data for creating a new project\n",
    "payload = json.dumps({\n",
    "    \"title\": \"\",\n",
    "    \"show_instruction\": False,\n",
    "    \"show_skip_button\": True,\n",
    "    \"enable_empty_annotation\": True,\n",
    "    \"show_annotation_history\": True,\n",
    "    \"organization\": 1,\n",
    "    \"color\": \"#000000\"\n",
    "})\n"
   ]
  },
  {
   "cell_type": "code",
   "execution_count": null,
   "metadata": {},
   "outputs": [],
   "source": [
    "\n",
    "# Define the API endpoint URL for creating a new project\n",
    "url = \"https://beewant.com/api/projects/\"\n",
    "\n",
    "# Set the headers with the API key and specify the content type as JSON\n",
    "headers = {\n",
    "    'Authorization': f'Token {beewant_api_key}',\n",
    "    'Content-Type': 'application/json',\n",
    "}\n",
    "\n",
    "# Send a POST request to the API endpoint with the provided headers and payload\n",
    "response = requests.post(url, headers=headers, data=payload)\n",
    "\n",
    "# Check if the request was successful (status code 200 - OK)\n",
    "if response.status_code == 200:\n",
    "    # Parse the JSON response and store it in the 'data' variable\n",
    "    data = response.json()\n",
    "    # Print the data (response of creating the new project)\n",
    "    print(data)\n",
    "else:\n",
    "    # If the request was not successful, print the status code and error message\n",
    "    print(f\"Error: {response.status_code} - {response.text}\")"
   ]
  },
  {
   "attachments": {},
   "cell_type": "markdown",
   "metadata": {},
   "source": [
    "### Validating label config"
   ]
  },
  {
   "cell_type": "code",
   "execution_count": null,
   "metadata": {},
   "outputs": [],
   "source": [
    "# To get your API key go to: Workspace settings -> Account -> Access Token\n",
    "beewant_api_key = \"\"\n",
    "\n",
    "# Define the payload data for validating the label configuration\n",
    "payload = json.dumps({\n",
    "    \"label_config\": \"string\"\n",
    "})"
   ]
  },
  {
   "cell_type": "code",
   "execution_count": null,
   "metadata": {},
   "outputs": [],
   "source": [
    "# Define the API endpoint URL for validating a label configuration\n",
    "url = \"https://beewant.com/api/projects/validate/\"\n",
    "\n",
    "\n",
    "# Set the headers with the API key and specify the content type as JSON\n",
    "headers = {\n",
    "    'Authorization': f'Token {beewant_api_key}',\n",
    "    'Content-Type': 'application/json',\n",
    "}\n",
    "\n",
    "# Send a POST request to the API endpoint with the provided headers and payload\n",
    "response = requests.post(url, headers=headers, data=payload)\n",
    "\n",
    "# Check if the request was successful (status code 200 - OK)\n",
    "if response.status_code == 200:\n",
    "    # Parse the JSON response and store it in the 'data' variable\n",
    "    data = response.json()\n",
    "    # Print the data (response of validating the label configuration)\n",
    "    print(data)\n",
    "else:\n",
    "    # If the request was not successful, print the status code and error message\n",
    "    print(f\"Error: {response.status_code} - {response.text}\")\n"
   ]
  },
  {
   "attachments": {},
   "cell_type": "markdown",
   "metadata": {},
   "source": [
    "### Updating a project"
   ]
  },
  {
   "cell_type": "code",
   "execution_count": null,
   "metadata": {},
   "outputs": [],
   "source": [
    "# To get your API key go to: Workspace settings -> Account -> Access Token\n",
    "beewant_api_key = \"\"\n",
    "\n",
    "# A project ID is a unique identifier assigned to each project in Beewant\n",
    "project_id = \"\"\n",
    "\n",
    "# Define the payload data for updating the project title\n",
    "payload = json.dumps({\n",
    "    \"title\": \"\"\n",
    "})"
   ]
  },
  {
   "cell_type": "code",
   "execution_count": null,
   "metadata": {},
   "outputs": [],
   "source": [
    "# Define the API endpoint URL for updating a project with project_id\n",
    "url = f'https://beewant.com/api/projects/{project_id}/'\n",
    "\n",
    "\n",
    "# Set the headers with the API key and specify the content type as JSON\n",
    "headers = {\n",
    "    'Authorization': f'Token {beewant_api_key}',\n",
    "    'Content-Type': 'application/json',\n",
    "}\n",
    "\n",
    "# Send a PATCH request to the API endpoint with the provided headers and payload\n",
    "response = requests.patch(url, headers=headers, data=payload)\n",
    "\n",
    "# Check if the request was successful (status code 200 - OK)\n",
    "if response.status_code == 200:\n",
    "    # Parse the JSON response and store it in the 'data' variable\n",
    "    data = response.json()\n",
    "    # Print the data (response of updating the project)\n",
    "    print(data)\n",
    "else:\n",
    "    # If the request was not successful, print the status code and error message\n",
    "    print(f\"Error: {response.status_code} - {response.text}\")\n"
   ]
  },
  {
   "attachments": {},
   "cell_type": "markdown",
   "metadata": {},
   "source": [
    "### Deleting project"
   ]
  },
  {
   "cell_type": "code",
   "execution_count": null,
   "metadata": {},
   "outputs": [],
   "source": [
    "# To get your API key go to: Workspace settings -> Account -> Access Token\n",
    "beewant_api_key = \"\"\n",
    "\n",
    "# A project ID is a unique identifier assigned to each project in Beewant\n",
    "project_id = \"\""
   ]
  },
  {
   "cell_type": "code",
   "execution_count": null,
   "metadata": {},
   "outputs": [],
   "source": [
    "# Define the API endpoint URL for deleting a project with project_id\n",
    "url = f'https://beewant.com/api/projects/{project_id}/'\n",
    "\n",
    "# Set the headers with the API key\n",
    "headers = {\n",
    "    'Authorization': f'Token {beewant_api_key}'\n",
    "}\n",
    "\n",
    "# Send a DELETE request to the API endpoint with the provided headers\n",
    "response = requests.delete(url, headers=headers)\n",
    "\n",
    "# Check if the request was successful (status code 204 - No Content)\n",
    "if response.status_code == 204:\n",
    "    print(\"Project successfully deleted.\")\n",
    "else:\n",
    "    # If the request was not successful, print the status code and error message\n",
    "    print(f\"Error: {response.status_code} - {response.text}\")"
   ]
  },
  {
   "attachments": {},
   "cell_type": "markdown",
   "metadata": {},
   "source": [
    "### Deleting all project tasks"
   ]
  },
  {
   "cell_type": "code",
   "execution_count": null,
   "metadata": {},
   "outputs": [],
   "source": [
    "# To get your API key go to: Workspace settings -> Account -> Access Token\n",
    "beewant_api_key = \"\"\n",
    "\n",
    "# A project ID is a unique identifier assigned to each project in Beewant\n",
    "project_id = \"\""
   ]
  },
  {
   "cell_type": "code",
   "execution_count": null,
   "metadata": {},
   "outputs": [],
   "source": [
    "# Define the API endpoint URL for deleting all tasks of a project with project_id\n",
    "url = f'https://beewant.com/api/projects/{project_id}/tasks/'\n",
    "\n",
    "# Set the headers with the API key\n",
    "headers = {\n",
    "    'Authorization': f'Token {beewant_api_key}'\n",
    "}\n",
    "\n",
    "# Send a DELETE request to the API endpoint with the provided headers\n",
    "response = requests.delete(url, headers=headers)\n",
    "\n",
    "# Check if the request was successful (status code 204 - No Content)\n",
    "if response.status_code == 204:\n",
    "    print(\"All tasks of the project successfully deleted.\")\n",
    "else:\n",
    "    # If the request was not successful, print the status code and error message\n",
    "    print(f\"Error: {response.status_code} - {response.text}\")\n"
   ]
  }
 ],
 "metadata": {
  "kernelspec": {
   "display_name": "Python 3",
   "language": "python",
   "name": "python3"
  },
  "language_info": {
   "name": "python",
   "version": "3.10.0"
  },
  "orig_nbformat": 4
 },
 "nbformat": 4,
 "nbformat_minor": 2
}

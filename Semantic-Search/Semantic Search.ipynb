{
 "cells": [
  {
   "cell_type": "markdown",
   "metadata": {},
   "source": [
    "<td>\n",
    "   <a target=\"_blank\" href=\"https://beewant.com\" ><img src=\"https://media.licdn.com/dms/image/C4E0BAQFKjwZohF7zRA/company-logo_200_200/0/1655303818792?e=2147483647&v=beta&t=fmLrigj1HhqskB4jNk6aDb6XASTUx1SnRvMXWBPtuCY\"></a>\n",
    "</td>\n",
    "<p><B>Welcome to Beewant Platform Tutorial</B></p>"
   ]
  },
  {
   "cell_type": "markdown",
   "metadata": {},
   "source": [
    "<td>\n",
    "    <a href=\"https://www.linkedin.com/in/beewant/\" target=\"_blank\">\n",
    "        <img src=\"https://img.shields.io/badge/LinkedIn-0077B5?logo=linkedin&logoColor=white\" alt=\"LinkedIn\">\n",
    "    </a>\n",
    "</td>\n",
    "\n",
    "<td>\n",
    "    <a href=\"https://beewant.slack.com/\" target=\"_blank\">\n",
    "        <img src=\"https://img.shields.io/badge/Slack-4A154B?logo=slack&logoColor=white\" alt=\"Slack\">\n",
    "    </a>\n",
    "</td>"
   ]
  },
  {
   "cell_type": "markdown",
   "metadata": {},
   "source": [
    "<p>Explore the powerful capabilities of semantic search on the BeeWant platform with this comprehensive tutorial. Learn how to harness the potential of semantic search, whether through providing detailed prompts for text-based searches or utilizing the innovative feature of searching by image. Discover the intricacies of enhancing search accuracy and contextually relevant outcomes by tailoring your queries. Whether you're leveraging the semantic search for text or diving into image-based searches, this tutorial will guide you through the steps to optimize your search experience on the BeeWant platform.</p>"
   ]
  },
  {
   "cell_type": "code",
   "execution_count": null,
   "metadata": {},
   "outputs": [],
   "source": [
    "import json\n",
    "from IPython.display import HTML, display\n",
    "import threading\n",
    "import requests\n",
    "import base64"
   ]
  },
  {
   "cell_type": "markdown",
   "metadata": {},
   "source": [
    "# Perform Search by prompt"
   ]
  },
  {
   "cell_type": "code",
   "execution_count": null,
   "metadata": {},
   "outputs": [],
   "source": [
    "# set the base url for the api\n",
    "url_base = 'https://beewant.com/api/projects/'\n",
    "\n",
    "# set the api key\n",
    "beewant_key = ''\n",
    "\n",
    "# set the headers for the api\n",
    "headers = {'Authorization': f'Token {beewant_key}','Content-Type': 'application/json'}"
   ]
  },
  {
   "cell_type": "markdown",
   "metadata": {},
   "source": [
    "### Retrieving results "
   ]
  },
  {
   "cell_type": "code",
   "execution_count": null,
   "metadata": {},
   "outputs": [],
   "source": [
    "# set seaarch endpoint\n",
    "url_search = url_base + \"semantic-search/\"\n",
    "\n",
    "# set project id\n",
    "project_id = \" \"\n",
    " \n",
    "# set payload\n",
    "payload = json.dumps({\n",
    "  \"project\": f\"{project_id}\",\n",
    "  \"prompt\": \"Red car\",\n",
    "})\n",
    " \n",
    "# send request \n",
    "response = requests.request(\"POST\", url_search, headers=headers, data=payload)\n",
    "\n",
    "if response.status_code == 200:\n",
    "    response_initial = response.json()\n",
    "    print(\"Success!\")\n",
    "else:\n",
    "    print(\"Error: \" + str(response.status_code))\n",
    "    print(response.text)"
   ]
  },
  {
   "cell_type": "code",
   "execution_count": null,
   "metadata": {},
   "outputs": [],
   "source": [
    "# sort the scores\n",
    "scores_dict = response_initial.get(\"scores\", {})\n",
    "\n",
    "# Extract relevant information from response_initial\n",
    "sorted_scores = dict(sorted(scores_dict.items(), key=lambda x: x[1], reverse=True)[:100])"
   ]
  },
  {
   "cell_type": "code",
   "execution_count": null,
   "metadata": {},
   "outputs": [],
   "source": [
    "scores_dict = response_initial.get(\"scores\", {})\n",
    "\n",
    "# Assuming scores_dict is already sorted, take the top 10\n",
    "sorted_scores = dict(list(scores_dict.items())[:10])\n",
    "\n",
    "# Lists to store results\n",
    "task_similarity_url = []\n",
    "\n",
    "# List to keep track of threads\n",
    "threads = []\n",
    "\n",
    "# Thread function to fetch task info\n",
    "def fetch_task_info(task, similarity_score):\n",
    "    url_task_info = f\"https://beewant.com/api/tasks/{task}/\"\n",
    "    response = requests.get(url_task_info, headers=headers)\n",
    "    if response.status_code == 200:\n",
    "        response_data = response.json()\n",
    "        first_key = next(iter(response_data[\"data\"]))\n",
    "        image_url = response_data[\"data\"][first_key]\n",
    "        task_similarity_url.append((task, similarity_score, image_url))\n",
    "        # task_similarity.append(similarity_score)\n",
    "        # first_tasks_url.append(image_url)\n",
    "    else:\n",
    "        print(f\"Failed to fetch data for task {task}\")"
   ]
  },
  {
   "cell_type": "code",
   "execution_count": null,
   "metadata": {},
   "outputs": [],
   "source": [
    "# Create and start threads\n",
    "for task, similarity_score in sorted_scores.items():\n",
    "    thread = threading.Thread(target=fetch_task_info, args=(task, similarity_score))\n",
    "    threads.append(thread)\n",
    "    thread.start()\n",
    "\n",
    "# Wait for all threads to complete\n",
    "for thread in threads:\n",
    "    thread.join()"
   ]
  },
  {
   "cell_type": "code",
   "execution_count": null,
   "metadata": {},
   "outputs": [],
   "source": [
    "task_similarity_url.sort(key=lambda x: x[1], reverse=True)"
   ]
  },
  {
   "cell_type": "code",
   "execution_count": null,
   "metadata": {},
   "outputs": [],
   "source": [
    "# extract similarities from task_similarity_url\n",
    "task_similarity = [x[1] for x in task_similarity_url]\n",
    "\n",
    "# extract urls from task_similarity_url\n",
    "first_tasks_url = [x[2] for x in task_similarity_url]"
   ]
  },
  {
   "cell_type": "markdown",
   "metadata": {},
   "source": [
    "### Displaying top images with their infos"
   ]
  },
  {
   "cell_type": "code",
   "execution_count": null,
   "metadata": {},
   "outputs": [],
   "source": [
    "# Create dict called image_info that contains each task id and its similarity score\n",
    "image_info = {\n",
    "    task: {\"similarity_score\": similarity, \"task_url\": url}\n",
    "    for task, similarity, url in zip(sorted_scores.keys(), task_similarity, first_tasks_url)\n",
    "}"
   ]
  },
  {
   "cell_type": "code",
   "execution_count": null,
   "metadata": {},
   "outputs": [],
   "source": [
    "# Create HTML content with clickable images\n",
    "html_content = \"<div style='display: flex; flex-wrap: wrap;'>\"\n",
    "\n",
    "for task_id, info in image_info.items():\n",
    "    url = info['task_url']\n",
    "    image_html = f\"<a href='{url}' target='_blank'><img src='{url}' style='width: 200px; height: 200px; margin: 10px;' /></a>\"\n",
    "    info_html = f\"<div style='margin: 10px;'>ID: {task_id}<br>Similarity score: {info['similarity_score']}</div>\"\n",
    "    \n",
    "    # Combine image and info HTML\n",
    "    combined_html = f\"<div style='position: relative;'>{image_html}{info_html}</div>\"\n",
    "    \n",
    "    # Add the combined HTML to the overall content\n",
    "    html_content += combined_html\n",
    "\n",
    "html_content += \"</div>\"\n",
    "\n",
    "# Display the HTML content\n",
    "display(HTML(html_content))"
   ]
  },
  {
   "cell_type": "markdown",
   "metadata": {},
   "source": [
    "# Perform Search by image"
   ]
  },
  {
   "cell_type": "code",
   "execution_count": null,
   "metadata": {},
   "outputs": [],
   "source": [
    "# set the base url for the api\n",
    "url_search = url_base + \"image-search/\"\n",
    "\n",
    "# Path to the image file\n",
    "image_path = './image.png'\n",
    "\n",
    "# set project id\n",
    "project_id = \" \"\n",
    "\n",
    "# Read the image and convert it to base64\n",
    "with open(image_path, 'rb') as image_file:\n",
    "    base64_image = base64.b64encode(image_file.read()).decode('utf-8')"
   ]
  },
  {
   "cell_type": "code",
   "execution_count": null,
   "metadata": {},
   "outputs": [],
   "source": [
    "params = json.dumps({\n",
    "    'project': f\"{project_id}\",\n",
    "    'image_prompt': f'data:image/jpeg;base64,{base64_image}',\n",
    "    'bias': 0.0,\n",
    "    'modelName': 'CLIP',\n",
    "})\n",
    "\n",
    "response = requests.post(url_search, headers=headers, data=params)\n",
    "if response.status_code == 200:\n",
    "    response_initial = response.json()\n",
    "    print(\"Success!\")"
   ]
  },
  {
   "cell_type": "code",
   "execution_count": null,
   "metadata": {},
   "outputs": [],
   "source": [
    "scores_dict = response_initial.get(\"scores\", {})\n",
    "\n",
    "# Extract relevant information from response_initial\n",
    "sorted_scores = dict(sorted(scores_dict.items(), key=lambda x: x[1], reverse=True)[:10])"
   ]
  },
  {
   "cell_type": "code",
   "execution_count": null,
   "metadata": {},
   "outputs": [],
   "source": [
    "scores_dict = response_initial.get(\"scores\", {})\n",
    "\n",
    "# Assuming scores_dict is already sorted, take the top 10\n",
    "sorted_scores = dict(list(scores_dict.items())[:10])\n",
    "\n",
    "# Lists to store results\n",
    "task_similarity_url = []\n",
    "\n",
    "# List to keep track of threads\n",
    "threads = []\n",
    "\n",
    "# Thread function to fetch task info\n",
    "def fetch_task_info(task, similarity_score):\n",
    "    url_task_info = f\"https://beewant.com/api/tasks/{task}/\"\n",
    "    response = requests.get(url_task_info, headers=headers)\n",
    "    if response.status_code == 200:\n",
    "        response_data = response.json()\n",
    "        first_key = next(iter(response_data[\"data\"]))\n",
    "        image_url = response_data[\"data\"][first_key]\n",
    "        task_similarity_url.append((task, similarity_score, image_url))\n",
    "    else:\n",
    "        print(f\"Failed to fetch data for task {task}\")\n",
    "        print(response.text)"
   ]
  },
  {
   "cell_type": "code",
   "execution_count": null,
   "metadata": {},
   "outputs": [],
   "source": [
    "# Create and start threads\n",
    "for task, similarity_score in sorted_scores.items():\n",
    "    thread = threading.Thread(target=fetch_task_info, args=(task, similarity_score))\n",
    "    threads.append(thread)\n",
    "    thread.start()\n",
    "\n",
    "# Wait for all threads to complete\n",
    "for thread in threads:\n",
    "    thread.join()"
   ]
  },
  {
   "cell_type": "code",
   "execution_count": null,
   "metadata": {},
   "outputs": [],
   "source": [
    "task_similarity_url.sort(key=lambda x: x[1], reverse=True)"
   ]
  },
  {
   "cell_type": "code",
   "execution_count": null,
   "metadata": {},
   "outputs": [],
   "source": [
    "# extract similarities from task_similarity_url\n",
    "task_similarity = [x[1] for x in task_similarity_url]\n",
    "# extract urls from task_similarity_url\n",
    "first_tasks_url = [x[2] for x in task_similarity_url]"
   ]
  },
  {
   "cell_type": "markdown",
   "metadata": {},
   "source": [
    "### Displaying top images with their infos"
   ]
  },
  {
   "cell_type": "code",
   "execution_count": null,
   "metadata": {},
   "outputs": [],
   "source": [
    "# Create dict called image_info that contains each task id and its similarity score\n",
    "image_info = {\n",
    "    task: {\"similarity_score\": similarity, \"task_url\": url}\n",
    "    for task, similarity, url in zip(sorted_scores.keys(), task_similarity, first_tasks_url)\n",
    "}"
   ]
  },
  {
   "cell_type": "code",
   "execution_count": null,
   "metadata": {},
   "outputs": [],
   "source": [
    "# Create HTML content with clickable images\n",
    "html_content = \"<div style='display: flex; flex-wrap: wrap;'>\"\n",
    "\n",
    "for task_id, info in image_info.items():\n",
    "    url = info['task_url']\n",
    "    image_html = f\"<a href='{url}' target='_blank'><img src='{url}' style='width: 200px; height: 200px; margin: 10px;' /></a>\"\n",
    "    info_html = f\"<div style='margin: 10px;'>ID: {task_id}<br>Similarity score: {info['similarity_score']}</div>\"\n",
    "    \n",
    "    # Combine image and info HTML\n",
    "    combined_html = f\"<div style='position: relative;'>{image_html}{info_html}</div>\"\n",
    "    \n",
    "    # Add the combined HTML to the overall content\n",
    "    html_content += combined_html\n",
    "\n",
    "html_content += \"</div>\"\n",
    "\n",
    "# Display the HTML content\n",
    "display(HTML(html_content))"
   ]
  }
 ],
 "metadata": {
  "kernelspec": {
   "display_name": "Python 3",
   "language": "python",
   "name": "python3"
  },
  "language_info": {
   "codemirror_mode": {
    "name": "ipython",
    "version": 3
   },
   "file_extension": ".py",
   "mimetype": "text/x-python",
   "name": "python",
   "nbconvert_exporter": "python",
   "pygments_lexer": "ipython3",
   "version": "3.10.5"
  }
 },
 "nbformat": 4,
 "nbformat_minor": 2
}
